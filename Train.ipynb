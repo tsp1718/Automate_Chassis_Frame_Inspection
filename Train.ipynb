{
 "cells": [
  {
   "cell_type": "code",
   "execution_count": null,
   "metadata": {
    "_cell_guid": "b1076dfc-b9ad-4769-8c92-a6c4dae69d19",
    "_uuid": "8f2839f25d086af736a60e9eeb907d3b93b6e0e5",
    "colab": {
     "base_uri": "https://localhost:8080/"
    },
    "execution": {
     "iopub.execute_input": "2025-02-05T07:40:59.488908Z",
     "iopub.status.busy": "2025-02-05T07:40:59.488591Z",
     "iopub.status.idle": "2025-02-05T07:40:59.493873Z",
     "shell.execute_reply": "2025-02-05T07:40:59.492973Z",
     "shell.execute_reply.started": "2025-02-05T07:40:59.488877Z"
    },
    "id": "tu3gjBVgE2oP",
    "outputId": "2768dc26-a9cc-4e9f-d223-26696d1e2ba9"
   },
   "outputs": [
    {
     "name": "stdout",
     "output_type": "stream",
     "text": [
      "/content\n"
     ]
    }
   ],
   "source": [
    "import os\n",
    "HOME = os.getcwd()\n",
    "print(HOME)\n",
    "\n"
   ]
  },
  {
   "cell_type": "code",
   "execution_count": null,
   "metadata": {
    "colab": {
     "base_uri": "https://localhost:8080/"
    },
    "execution": {
     "iopub.execute_input": "2025-02-05T07:41:36.012589Z",
     "iopub.status.busy": "2025-02-05T07:41:36.012264Z",
     "iopub.status.idle": "2025-02-05T07:41:41.288589Z",
     "shell.execute_reply": "2025-02-05T07:41:41.287625Z",
     "shell.execute_reply.started": "2025-02-05T07:41:36.012552Z"
    },
    "id": "d8-sSQUgE2oR",
    "outputId": "80f0b2b6-4c1e-476c-b07f-47b2c0511273"
   },
   "outputs": [
    {
     "name": "stdout",
     "output_type": "stream",
     "text": [
      "\u001b[?25l   \u001b[90m━━━━━━━━━━━━━━━━━━━━━━━━━━━━━━━━━━━━━━━━\u001b[0m \u001b[32m0.0/84.5 kB\u001b[0m \u001b[31m?\u001b[0m eta \u001b[36m-:--:--\u001b[0m\r",
      "\u001b[2K   \u001b[90m━━━━━━━━━━━━━━━━━━━━━━━━━━━━━━━━━━━━━━━━\u001b[0m \u001b[32m84.5/84.5 kB\u001b[0m \u001b[31m2.6 MB/s\u001b[0m eta \u001b[36m0:00:00\u001b[0m\n",
      "\u001b[2K   \u001b[90m━━━━━━━━━━━━━━━━━━━━━━━━━━━━━━━━━━━━━━━━\u001b[0m \u001b[32m66.8/66.8 kB\u001b[0m \u001b[31m2.9 MB/s\u001b[0m eta \u001b[36m0:00:00\u001b[0m\n",
      "\u001b[2K   \u001b[90m━━━━━━━━━━━━━━━━━━━━━━━━━━━━━━━━━━━━━━━━\u001b[0m \u001b[32m49.9/49.9 MB\u001b[0m \u001b[31m9.7 MB/s\u001b[0m eta \u001b[36m0:00:00\u001b[0m\n",
      "\u001b[2K   \u001b[90m━━━━━━━━━━━━━━━━━━━━━━━━━━━━━━━━━━━━━━━━\u001b[0m \u001b[32m7.8/7.8 MB\u001b[0m \u001b[31m33.1 MB/s\u001b[0m eta \u001b[36m0:00:00\u001b[0m\n",
      "\u001b[?25h"
     ]
    }
   ],
   "source": [
    "!pip install -q roboflow\n"
   ]
  },
  {
   "cell_type": "code",
   "execution_count": null,
   "metadata": {
    "id": "dR7t10TMrXVM"
   },
   "outputs": [],
   "source": [
    "from google.colab import userdata\n"
   ]
  },
  {
   "cell_type": "code",
   "execution_count": null,
   "metadata": {
    "colab": {
     "base_uri": "https://localhost:8080/"
    },
    "execution": {
     "iopub.execute_input": "2025-02-05T07:41:41.29053Z",
     "iopub.status.busy": "2025-02-05T07:41:41.290151Z",
     "iopub.status.idle": "2025-02-05T07:41:42.630608Z",
     "shell.execute_reply": "2025-02-05T07:41:42.629742Z",
     "shell.execute_reply.started": "2025-02-05T07:41:41.29049Z"
    },
    "id": "NpmRBxyaE2oS",
    "outputId": "468d9706-ae1f-40fb-c796-5dd4866280a3"
   },
   "outputs": [
    {
     "name": "stdout",
     "output_type": "stream",
     "text": [
      "loading Roboflow workspace...\n",
      "loading Roboflow project...\n"
     ]
    },
    {
     "name": "stderr",
     "output_type": "stream",
     "text": [
      "Downloading Dataset Version Zip in Prototype-1-1 to yolov8:: 100%|██████████| 35899/35899 [00:00<00:00, 41074.76it/s]"
     ]
    },
    {
     "name": "stdout",
     "output_type": "stream",
     "text": [
      "\n"
     ]
    },
    {
     "name": "stderr",
     "output_type": "stream",
     "text": [
      "\n",
      "Extracting Dataset Version Zip to Prototype-1-1 in yolov8:: 100%|██████████| 1134/1134 [00:00<00:00, 6878.35it/s]\n"
     ]
    }
   ],
   "source": [
    "from roboflow import Roboflow\n",
    "rf = Roboflow(api_key=\"YOUR-API-KEY\")\n",
    "project = rf.workspace(\"dreamfalls\").project(\"prototype-1-lqaxx\")\n",
    "version = project.version(1)\n",
    "dataset = version.download(\"yolov8\")"
   ]
  },
  {
   "cell_type": "code",
   "execution_count": null,
   "metadata": {
    "colab": {
     "base_uri": "https://localhost:8080/",
     "height": 36
    },
    "execution": {
     "iopub.execute_input": "2025-02-05T07:41:42.632311Z",
     "iopub.status.busy": "2025-02-05T07:41:42.631988Z",
     "iopub.status.idle": "2025-02-05T07:41:42.638095Z",
     "shell.execute_reply": "2025-02-05T07:41:42.637146Z",
     "shell.execute_reply.started": "2025-02-05T07:41:42.632281Z"
    },
    "id": "hZdrLnoPE2oT",
    "outputId": "e67d3114-ca7a-4353-c971-3b02c5df8a94"
   },
   "outputs": [
    {
     "data": {
      "application/vnd.google.colaboratory.intrinsic+json": {
       "type": "string"
      },
      "text/plain": [
       "'/content/Prototype-1-1'"
      ]
     },
     "execution_count": 10,
     "metadata": {},
     "output_type": "execute_result"
    }
   ],
   "source": [
    "dataset_path = dataset.location\n",
    "dataset_path"
   ]
  },
  {
   "cell_type": "code",
   "execution_count": null,
   "metadata": {
    "colab": {
     "base_uri": "https://localhost:8080/"
    },
    "execution": {
     "iopub.execute_input": "2025-02-05T07:41:44.158686Z",
     "iopub.status.busy": "2025-02-05T07:41:44.158338Z",
     "iopub.status.idle": "2025-02-05T07:41:47.668596Z",
     "shell.execute_reply": "2025-02-05T07:41:47.667642Z",
     "shell.execute_reply.started": "2025-02-05T07:41:44.158645Z"
    },
    "id": "-Lbx9oauE2oU",
    "outputId": "d44be4f7-cede-4d3a-fff9-852e62caeaf8"
   },
   "outputs": [
    {
     "name": "stdout",
     "output_type": "stream",
     "text": [
      "Requirement already satisfied: wandb in /usr/local/lib/python3.11/dist-packages (0.19.8)\n",
      "Requirement already satisfied: click!=8.0.0,>=7.1 in /usr/local/lib/python3.11/dist-packages (from wandb) (8.1.8)\n",
      "Requirement already satisfied: docker-pycreds>=0.4.0 in /usr/local/lib/python3.11/dist-packages (from wandb) (0.4.0)\n",
      "Requirement already satisfied: gitpython!=3.1.29,>=1.0.0 in /usr/local/lib/python3.11/dist-packages (from wandb) (3.1.44)\n",
      "Requirement already satisfied: platformdirs in /usr/local/lib/python3.11/dist-packages (from wandb) (4.3.6)\n",
      "Requirement already satisfied: protobuf!=4.21.0,!=5.28.0,<6,>=3.19.0 in /usr/local/lib/python3.11/dist-packages (from wandb) (4.25.6)\n",
      "Requirement already satisfied: psutil>=5.0.0 in /usr/local/lib/python3.11/dist-packages (from wandb) (5.9.5)\n",
      "Requirement already satisfied: pydantic<3,>=2.6 in /usr/local/lib/python3.11/dist-packages (from wandb) (2.10.6)\n",
      "Requirement already satisfied: pyyaml in /usr/local/lib/python3.11/dist-packages (from wandb) (6.0.2)\n",
      "Requirement already satisfied: requests<3,>=2.0.0 in /usr/local/lib/python3.11/dist-packages (from wandb) (2.32.3)\n",
      "Requirement already satisfied: sentry-sdk>=2.0.0 in /usr/local/lib/python3.11/dist-packages (from wandb) (2.22.0)\n",
      "Requirement already satisfied: setproctitle in /usr/local/lib/python3.11/dist-packages (from wandb) (1.3.5)\n",
      "Requirement already satisfied: setuptools in /usr/local/lib/python3.11/dist-packages (from wandb) (75.1.0)\n",
      "Requirement already satisfied: typing-extensions<5,>=4.4 in /usr/local/lib/python3.11/dist-packages (from wandb) (4.12.2)\n",
      "Requirement already satisfied: six>=1.4.0 in /usr/local/lib/python3.11/dist-packages (from docker-pycreds>=0.4.0->wandb) (1.17.0)\n",
      "Requirement already satisfied: gitdb<5,>=4.0.1 in /usr/local/lib/python3.11/dist-packages (from gitpython!=3.1.29,>=1.0.0->wandb) (4.0.12)\n",
      "Requirement already satisfied: annotated-types>=0.6.0 in /usr/local/lib/python3.11/dist-packages (from pydantic<3,>=2.6->wandb) (0.7.0)\n",
      "Requirement already satisfied: pydantic-core==2.27.2 in /usr/local/lib/python3.11/dist-packages (from pydantic<3,>=2.6->wandb) (2.27.2)\n",
      "Requirement already satisfied: charset-normalizer<4,>=2 in /usr/local/lib/python3.11/dist-packages (from requests<3,>=2.0.0->wandb) (3.4.1)\n",
      "Requirement already satisfied: idna<4,>=2.5 in /usr/local/lib/python3.11/dist-packages (from requests<3,>=2.0.0->wandb) (3.7)\n",
      "Requirement already satisfied: urllib3<3,>=1.21.1 in /usr/local/lib/python3.11/dist-packages (from requests<3,>=2.0.0->wandb) (2.3.0)\n",
      "Requirement already satisfied: certifi>=2017.4.17 in /usr/local/lib/python3.11/dist-packages (from requests<3,>=2.0.0->wandb) (2025.1.31)\n",
      "Requirement already satisfied: smmap<6,>=3.0.1 in /usr/local/lib/python3.11/dist-packages (from gitdb<5,>=4.0.1->gitpython!=3.1.29,>=1.0.0->wandb) (5.0.2)\n"
     ]
    }
   ],
   "source": [
    "!pip install wandb"
   ]
  },
  {
   "cell_type": "code",
   "execution_count": null,
   "metadata": {
    "colab": {
     "base_uri": "https://localhost:8080/"
    },
    "execution": {
     "iopub.execute_input": "2025-02-05T07:41:50.481828Z",
     "iopub.status.busy": "2025-02-05T07:41:50.481504Z",
     "iopub.status.idle": "2025-02-05T07:41:58.643157Z",
     "shell.execute_reply": "2025-02-05T07:41:58.642429Z",
     "shell.execute_reply.started": "2025-02-05T07:41:50.481804Z"
    },
    "id": "-rAqdvqnE2oV",
    "outputId": "3b8c4f54-55fe-4530-ad61-7428b24d6e88"
   },
   "outputs": [
    {
     "name": "stderr",
     "output_type": "stream",
     "text": [
      "\u001b[34m\u001b[1mwandb\u001b[0m: \u001b[33mWARNING\u001b[0m If you're specifying your api key in code, ensure this code is not shared publicly.\n",
      "\u001b[34m\u001b[1mwandb\u001b[0m: \u001b[33mWARNING\u001b[0m Consider setting the WANDB_API_KEY environment variable, or running `wandb login` from the command line.\n",
      "\u001b[34m\u001b[1mwandb\u001b[0m: Appending key for api.wandb.ai to your netrc file: /root/.netrc\n"
     ]
    },
    {
     "data": {
      "text/plain": [
       "True"
      ]
     },
     "execution_count": 23,
     "metadata": {},
     "output_type": "execute_result"
    }
   ],
   "source": [
    "\n",
    "import wandb\n",
    "# Log in with your API key\n",
    "wandb.login(key=api_key=\"YOUR-API-KEY\")"
   ]
  },
  {
   "cell_type": "code",
   "execution_count": null,
   "metadata": {
    "colab": {
     "base_uri": "https://localhost:8080/"
    },
    "execution": {
     "iopub.execute_input": "2025-02-05T07:44:38.695063Z",
     "iopub.status.busy": "2025-02-05T07:44:38.694732Z",
     "iopub.status.idle": "2025-02-05T07:45:36.599183Z",
     "shell.execute_reply": "2025-02-05T07:45:36.598446Z",
     "shell.execute_reply.started": "2025-02-05T07:44:38.695032Z"
    },
    "id": "4D3vOhI9E2oW",
    "outputId": "8b53d1fd-7557-4411-cc0f-8b271850ab16"
   },
   "outputs": [
    {
     "name": "stdout",
     "output_type": "stream",
     "text": [
      "Ultralytics 8.3.71 🚀 Python-3.11.11 torch-2.5.1+cu124 CUDA:0 (Tesla T4, 15095MiB)\n",
      "Setup complete ✅ (2 CPUs, 12.7 GB RAM, 33.2/112.6 GB disk)\n"
     ]
    }
   ],
   "source": [
    "%pip install ultralytics  # install\n",
    "from ultralytics import YOLO, checks, hub\n",
    "checks()  # checks\n"
   ]
  },
  {
   "cell_type": "code",
   "execution_count": null,
   "metadata": {
    "colab": {
     "base_uri": "https://localhost:8080/"
    },
    "execution": {
     "iopub.execute_input": "2025-02-05T07:46:06.294857Z",
     "iopub.status.busy": "2025-02-05T07:46:06.29453Z"
    },
    "id": "o0TcfRppE2oX",
    "outputId": "f7a2a581-93a0-43eb-a915-0072529258a5"
   },
   "outputs": [
    {
     "name": "stdout",
     "output_type": "stream",
     "text": [
      "/bin/bash: line 1: yolo: command not found\n"
     ]
    }
   ],
   "source": [
    "!yolo settings wandb=True"
   ]
  },
  {
   "cell_type": "code",
   "execution_count": null,
   "metadata": {
    "colab": {
     "base_uri": "https://localhost:8080/",
     "height": 1000,
     "referenced_widgets": [
      "580643c2ca824130a5a3e237ca898c8c",
      "1389885fe1ef485f8c00b8b158759e41",
      "79efa0ab3add4723b5e716e95576c74c",
      "647e3dd9ed894e5dac34751db840bfb4",
      "9373621d474b44f0b2a9605a99965102",
      "bb9a8f82aa134eb188abbdfa7b642bc3",
      "e45105e041304ea5a73b881a378fc8d6",
      "cf0dec312f154fe1842f33e34ff7ae76",
      "810f08a7fe5a483eb6d70d5fbdba6479",
      "bdcfffe920da48559cff082147aa673e",
      "02ccd9f4545e4f76b62e1c858085f71c",
      "e9beb66a703a45de8ecd934ac8284f21",
      "3f1bed56edbf4469a6bf53497b0ae62b",
      "b7c0431c39ff44fe8e5db6c5622821ef",
      "5ab3abbae11c4673b6785873ce59b827",
      "a0a170091b9f4575bcbdfe3d31d030e0",
      "7ac46aeb89ae40879876baafd116ed4f",
      "1eff64e22b6f44e2b08b67ee877c2648",
      "e5c92eac86ad457c8cd5c5312dc8688a",
      "9394d99429a149bfa9f80fc61ecc8ca0",
      "4f8669097e274a8081d929eb233325b6",
      "dd1cfe6dfc184b51b3138bff1326bbb8",
      "4ff0a533d97641ba8d2706f199597ba4",
      "e205457cb680452aa3f03c979317fa15",
      "aec5dfa67ad7436d9aa18e8d6712c9dc",
      "fdde5b3d75dd44729acefa44e2427296",
      "c94efd5ae6ce4ce08441b02fad2a6808",
      "cf91a3754cd7451eabc2a07604c98ab9",
      "1bf50daa4303456583dc07d4d90a6c7e",
      "c084d7d35c4348318c155c7988ae27c4",
      "ec20831f0d5f46a4a9dc237a851c7523",
      "d637fd1999f746718493d8e73745ac34",
      "212528702672411ba7c2cb317309bbbe",
      "24b98fdeca4a4507aaa8218412293368",
      "f9fd69f8b0a64d31ba39e710e8207ef1",
      "ba7a1b9b606c4624bfcf0956c838973f",
      "2834da79ec7948ef86c90305ed5ac5b9",
      "384ceea471a1492585f77465f3da52d5",
      "006c8fcb8aa24b44867915ce94ed285e",
      "f61ec788c4c341929e593601edcef285",
      "3acca4346bca4653964a484a48174ea4",
      "98680ec34bd0431490b0743149be87b5",
      "39bc0e983f074a48a108ef86075719e4",
      "9f364955a1334c7da58defbcec5337ed",
      "6191b76c9c924aedb8f1a69479eddbdc",
      "b901bd4d4c4f4fc3b32fa14372a797f6",
      "dfc64275460c4e0c8c444d56ece420d8",
      "ed5e11be506f44789ec7fab92971d71d",
      "36c5f6b25bbb4f868b0a42f04e6bdcd1",
      "8595a673ef4e455a84dc181c7f50baed",
      "dcf6667e8e3e43198791840a0c6ba2a4",
      "5b10a7ae885c48b09dbfff31d148a327",
      "ef6459deff2d4268986c27a1bc3ec0f2",
      "6efde490e4cc4433a6bcd3bfcf935a8e",
      "1940887d5f7c4e21b9b8b92c9146fdef",
      "3a315a86eb56468cbf7fb2a6acbcb7a4",
      "abd73aaf5bf741a3846b9a8aaba9e020",
      "f585691d4def47f88136073c784b1a79",
      "025c93b8b9bc4a63b1ac5854fdd81c48",
      "c04fbbb5023e4c5bb5803ef3b159c036",
      "51bbd5711d5d4594b3bcb90b6acb6b9c",
      "aed9f06c99bd4a27b0840debe1b1d0b8",
      "1f0ba01e39764a48aa4f03c7863cd2d1",
      "193b2f44c4c9454aa4592a392308e055",
      "bdaa52ad4303470e84afb7fe6557b566",
      "a369d40072b54ec18a563210cbde6195",
      "f6d3e4cefa4743c78fbe053e817663ec",
      "a260b2f2ec234a48b1aa02fe7c49920d",
      "8f9edf5c887c4da4a5f848ed6b8abf50",
      "bf30c297b02043a5aa7b816b0ed9b47c",
      "0b9b5ef39f0d4b05ac27662c87b5aa72",
      "36fcb418e3624faeac493f77be0903ae",
      "0da7509a35d1475fb20c749e1fa42988",
      "5b559df1fc3b433d8670a5ab113e4e98",
      "0fbb3004be094935ac472a71374dae4f",
      "e879584d79a24f6ca7b010cf9b7b496f",
      "e8381e77619049388893e8c2ebda7969",
      "167793f755a947b28fb3698cf6f8b54c",
      "4df0093037fe4a38a54903a98482b19f",
      "8257d2e033ea4730907400967f315fc2",
      "a3f96432f1b94bf2aafe37f4327ad0f4",
      "55837b07b00d431ca38812377795a063",
      "c56cc898963a45868b0fc0473148ac11",
      "14d55437eaa9440289af24d7e67ca77a",
      "67d0327d5cea4959b64212ab1d0176a3",
      "b242b8ef6a8341e1a15d1e2fc3404820",
      "c24f9b886a5a41a89c00906fd403c657",
      "2659cf8a9e7b4d1b992b3aa43366e317",
      "27f5be854493423a83e80df8bd355c50",
      "fa4fef7e9655416fa0a4ee6927524183",
      "8fd85a79a2cf45c6b0c7bd5919a1c980",
      "7de50fc326e949dcb050caa032410528",
      "c4b9e089950d4aea9823cae3a7cccb4a",
      "ac9301cf649948a9ae2f1cda85edc667",
      "0eaca12b5f044acdba623e5e5929e3ed",
      "ab673818639c481590499042fa817d85",
      "4918d9fcc32641d79d7bbdcc096b437e",
      "2e0c6a3d7dba4650aca38840e126b13c",
      "42794305f87a416d83b10255441cf930",
      "50874cfcfeff465aabb42d64ed9de6dc",
      "6e2631b5db6f49e6a7e1f2c6d60259ad",
      "13de136c5aff46eeb6002adb6a0c101a",
      "e5d0ea97d10b42d3ba0bc05adc763c2a",
      "221f318c529b43e890f765ed4b8dc6fb",
      "785a5ed82ceb49d981dc5a5ab0eaa194",
      "ee36aaa31f0e431e8f575606e12b152b",
      "fb235690b03e47de862ac7c2c6d4b52d",
      "ccd6035e74b241e599e1cc5a1bf2d8b3",
      "0f2c2991989a4d2492324359808e2428",
      "60f7d4eaa89440dcaa86ccc1f9bc2098",
      "130bcf33757240aa98be2ca9cd8b2ec3",
      "3a9d72ed1a77443097ba405ef1c5eb26",
      "b57f7eedb08f480aaa22e59f54c73808",
      "a1424a92a48a4e02bd74e52b32c9a791",
      "807af6a378f3407aac7cfaa01b5db80c",
      "de49e5c711f54047822c06104cff2cfb",
      "055559d1c8e447cdb1fdc07097021d5c",
      "436978763cfe4f8789c31d1579274365",
      "33c997f7ac354098a686c910f4dda832",
      "8fa36d88eee849b99f3256c9de7bedf1",
      "b270d0fd40f34c059e39a3988ba98867",
      "420447e9a02f42078ef2bb8bd1e394e4",
      "168b9fc481b04e76bdbc0825a0b5ab84",
      "6468bb7dece44557b3ec75fc59a1acd0",
      "83fc5a9c26d54ee1aa3ab84b69db21db",
      "78dd61b1e48745eebaafcc63b81add5e",
      "8c4e1465359d40208a074da6b0c9f285",
      "52f818a7d8ac4ac38f038cef85ef7f5c",
      "9d63ca79dd8244eb9e2350e41bad293c",
      "aed0a0d412cd4d78a36a29da30266b59",
      "7d34a23805ad4bffad1bf0e2c8448bec",
      "f37630f24e5c4ae29365b47bf56c2d6e",
      "3ae106640a88478692e28128fa588693",
      "a2e0610063e449a493b946fcef40c830",
      "dcac05b174284a198d6562c0fde8c1a6",
      "7afe7743aa004a3288694bfdce97ddc7",
      "8d7d2e07de3740efaee6e60c7e03c141",
      "7867051d5ca149d7b33b031fed37c3eb",
      "9f2121ed62e84df4b607ca9732e99cd5",
      "c74978ccc3194746abe90075b303f70c",
      "46ee6755308049daae76fbafecc778c6",
      "015b69fa984a4c16a629660c65eff5ae",
      "2f72d800631c48a1a43dc14720eab985",
      "da7579bf7ae44c2ca6bdeab3ba49fdf6",
      "bc90924a35204e62838a5a74c28e35b7",
      "f9db42a26cef43baa86f2561acd953a0",
      "ce475ed54c5a40fba695fc3f5cfa1197",
      "5c57bf360d4c45b38e39e9b389d1d412",
      "a9b4ab77ea0548bfbb7acf0323ce4e29",
      "589e0afd13f84d32b23ef72d5c99a6a4",
      "94700ec11f1d4142b90e46d9f4f3660f",
      "87d9df713fd8480284df2b858b534540",
      "3f8a6d56096a4a248d0c75512fb7a694",
      "fe9dc606b2ca40bab3e48993a2f21ecb",
      "22ac0afeb0d3401696471b995c5b1614",
      "8335d1682c8c4df69e01d1619a909547",
      "d1009700c640474b91375e099380bfdb",
      "d1e32b5700c24e398f8ec4b68e57bdae",
      "d4cc08d87242401a9cc0f480cbc957b3",
      "6d926bfdd4f44220b8ed156f30d38539",
      "8a2d755dfcd547538a518729a673bb07",
      "6ae79989b7274ab5874d339b2e170b1a",
      "ea4fde6659d2442dabff7631aac60880",
      "484ed937942147dd96318e1db96d835d",
      "cffe6a7fd4554a1a96a5ffb4b6694a69",
      "4e0a91d92be44fc9b2a2b126ff25a9fd",
      "04c9e471714749e398095f2658ddf538",
      "204d8e882cce4cf1a3590e778732d4ae",
      "781e9f415dd9424ebbbd9d2a7c1a843c",
      "ca0c972b7e734f1993000f7fee650f32",
      "24dc9f4adfaf4e7db8603672e8f06279",
      "4ff07b4b6739491cb0684b99c613ba39",
      "b3be920e283b42f6821c0f31b3aa108a",
      "a2a3b5776743462cac54d0d9ae38ed56",
      "dfdb99f950e9480d89002105c7c3c67d",
      "bfa35734cdbd427aa46c236b7a23ad64",
      "597e1972e0ce489e8b874b95b1987022",
      "8c20c9ac0d304b0d9675921114463648",
      "0a229660a64c4bf482aa787df4323d3f",
      "41fcea3a3e704416b02a73e77afeb8bc",
      "d95cf7aaeb674e1fbe465a99fde72d41",
      "f3ddb1488202456f918020f20781bd3d",
      "271b02c698ae4b5ab194a39739303d19",
      "b5bad0c3efaf46fab9ea34f781081502",
      "5251ff61166046148af7d3140645e405",
      "898148f93cf3432281d5201ca8a72c04",
      "a9da11018d79468aa05a394c9af02c06",
      "72450fe176b64f8e993b45ab440d5cfa",
      "cd0b15aa9b7d4ab089363f31c69a72fa",
      "a695f8a5420b4e7da6b6a51aac395784",
      "3028ecef246d47cd93d03ad993bdb4ff",
      "e8c138f5da264a51b965779b753a1fd0",
      "78d9ddb45d7c4f69b5feacc2f79b29f7",
      "49ac446a3ba24d6ba61ac6f7a9827eb1",
      "73e4e540f2b64dbf890e71954ac4e262",
      "a0bf956f79074827be2fec48338bc4de",
      "096b486bb5774290b0cf386d22e4d31d",
      "8dbd7a7b31f44c7aa33340e1ddae3a88",
      "c08de96f75a74bfba36b8209f8109792",
      "d3c739ba7af549ebbca173f8875f18c6",
      "b1c427d91b404da7825a752db55bc7fa",
      "d68856493b254103917d986443491f8c",
      "ae30d4f8ba084d658e213d3ac5cb4d94",
      "545ea32dd3e14c4ba4f7edcd85212f82",
      "e97339048c9f497aa7128b03bf2edb0e",
      "a59ccb64ab3b4c52b3b49be8bf9637f3",
      "e58ae0410e54450cbabfbf3c937d4d7d",
      "28287656318c43d3ab2ef54fc6c68e15",
      "b59943f19a7d4e4cb1a4d4b24f068527",
      "d35a6c78898b4466ae6f7cc4fada0f1d",
      "1125e72f7c35454582f443c052b4e14d",
      "0d7a7d8f8042453491ebb94da173fc32",
      "f050c99936db4e63a21f616ad0801ce3",
      "515618f5e2aa49ff9b3cad2fdd9a39a8",
      "4d928f7f33ed420793fa68ac2b1f9162",
      "c62f791cb20044c8bd831acc22d8e599",
      "d6b93378f3724fbfaf1c27505c100ce6",
      "d9ae713d78e6458998e9be7be4628dc7",
      "43b5f3e0546b45afb365f6443e583e15",
      "856793de75b24ec8b1fb36e69489c5e7",
      "921ca549c2404de0a8c273f2f48dfa09",
      "fa705233901040588a43d1663350ce91",
      "cd89b28bdd9f4b708775cfe024fa8f82",
      "19f8961729d1495285c18ea60113cfd8",
      "28a2b7a99e6842a9a033191a6c371184",
      "1bfac0996e9c48af86aee4cac128de1f",
      "b3efdcbd093d432f8a203753a535b31b",
      "92f5171ab68e4782a7ccaaf0ffaa193f",
      "208f039b801448f19f72cf942bb71dd4",
      "5ad3baed43e346b18690cc0295db6c6d",
      "fd1b632cf54a4dac863f1481c8cdb487",
      "5bbffe2254f143b289254af1eedccbfb",
      "0c4aa27ac5704fb29e7d3b501c305ba1",
      "7abff0f1196b45da951da8539c8ecefb",
      "dae6fe7537344bcc99080ceecd862d4c",
      "3844a333ec004fa8b1a56727c83dc8de",
      "ade310958ade42ae8ff3c2dc6a8a9d6e",
      "3819bb9e20504728a01d8b81dda735de",
      "671a210b6c7e418299c3fc67ab14b5e5",
      "02fc18bf3059472f876c390c5de115c1",
      "23711ee1632c425d98e38bb1068af8f8",
      "b51036454443447ca7c4a0519c014a80",
      "9c731d3fbdc34d669ba6cb01086c4524",
      "9514bde93f2b46f1be8cd7f01c16a11f",
      "d5ce63814e4143d9a049b587a4213075",
      "e77164ea7f56492fbfb3a2a8d5a34eac",
      "a07b6acc837849bc86c54c9bcc216206",
      "c90c851982b84b5d8882ed3254486734",
      "d961302fd106444cb4fbe570c3caa9e6",
      "34ff2cd84cdd46ff8fcca4ffc473a86a",
      "9bb65e4987384a17aa7514db3a6d5111",
      "d8a2c3be45c04746b18ec97db63cb6f2",
      "3184ef49a31045718f6216120bb714bc",
      "c0ba8e662ef74bebb47f8a97b6a2a631",
      "4e7f75b04066424699f607df1f6e6af4",
      "328a0a87a3ff43839ff66e40c9591f15",
      "0616e266479d40afb8df78247b302875",
      "bae8ec7e50f64b2790fe641fe480eb25",
      "6c12051d9f3947179ce66f1b233e83a7",
      "fcf9e7b856e74a7f8e2be948d954035c",
      "5b8ee1fa3c9d43b8a682f382ca6f2c45",
      "2aea7fe9d9fa44ef8cc9d4d06af4a520",
      "20e3e4c63c8a45e2827cf8d47a751f41",
      "6f922699ac694b6688eb4bbbf34c9d67",
      "bf3d64b6f30d4bfbb29f849ad84b1d75",
      "5a7f4addead6415b8cbea65ba5a1d3e3",
      "d18f5f76761e40158dd4568797dd3e0b",
      "04370c38d64142238139f252f562cb76",
      "afae11d642ab4371b44fc4ef156bb02e",
      "d641fcae674e481d9410a854a1ec7ec9",
      "e91c8833b3924939adc9323b4263666e",
      "b825e45d939f4303bee90f6c22eccc16",
      "da19bd2053cc4d0c89c2ebd85a5ff0c8",
      "48d9b30bd7904ee29b0106c23e941bc9",
      "127c8018704c4a6ca4103775d8b720b1",
      "582112e9625a43ee99837a19a66af792",
      "d465af06984847f680d24ff261baddba",
      "6b0ace45279b4ac195fc4233a3b04a71",
      "1e0713f86231496d895e9664a8596ef6",
      "0b347508b5aa467aa136c112f3380218",
      "1d3f0e3da1644bd48f67848d98507ea8",
      "c938133ebfe54a7c8cc5f61345286b6a",
      "b865c75862d64383b0d326f43c64bf52",
      "df11af3c0e52408b810caddb10041da5",
      "7cfab762a1c24541a13b9c6e920f10b8",
      "8fc02d279a704ec3bb533a615bbe0c7e",
      "473518b168324e23a9457fa1be7e5cba",
      "069febb73a8c45f48a102d4cca35557d",
      "8e8a5d986fc14567ae9060ee91e22a99",
      "d7fad57ea780496f9fd065c652797a91",
      "27a1f64733a04813b20e2ac43afced00",
      "d932be3a8daf46bc895bcf5460f7746c",
      "75af0077be60450c8c4b3101bf26b16e",
      "0606ff409198426b940738c14f63248c",
      "9f31d015c44b4aa1a846d778da18680d",
      "7a1e979d4c6641dfbe3e8b0eeaa1d36c",
      "2a124a998b0f45dca26ed3bcff414b44",
      "16c2ddf387144068b3443702d48a0467",
      "b0498fbcaa0541e5a69a276f580cd85f",
      "ad1653391fd840f097f3329a9dd00f08",
      "f62b184d0e414ffa965ae287b12bd9eb",
      "f748061c8cef49da9d53e3a44403a586",
      "9aeba6443fc146378313d7d922c0f1f1",
      "d11ddc91711741aeb6881c23c9182f4e",
      "5220ac208b5b4b9881aeb051113c00e5",
      "69f9926015c0460f927dfaf4c0dd4532",
      "ae53aa06aa8441e59d766eb5e132ef33",
      "68569ba98ad6457e8068a6bf223d5bcd",
      "3ab8fb52024f49a99c0ef92fe10f8b28",
      "83646dd76c2048f9b388a60008bd8821",
      "d8b7d747669844a981dd579cac77949e",
      "3baa4bdbd13b46478d8dafc53368488b",
      "a615539c8f934f8ea3804922526bc5de",
      "e0f9800cf25a444086b38f16cba3f7b3",
      "a2dda707ae9946759702b0f19fc6fee0",
      "815e3434f0dc49f08d60f1883aa509fc",
      "f29fd17f186f45feb2829aec4934a97d",
      "0a324bdca0fb42f0a559d7721a855b03",
      "9894bcbddb7e425d8ff6430d6c59d422",
      "0ec47a95f6e04cce885bd173603c3f92",
      "1469afe50c3d4931b1781b121bb34ea7",
      "358ff67d737346e394c00577c00e89f7",
      "5b25c6f63c5a49aa823a65c1e906d581",
      "33a6e89f7c2b45e38e3c570b9f2bfb6c",
      "c26b8a20ff2743f0aa93f071339c785a",
      "fa0885e8d6cf482fa422fd5f0e9aac10",
      "a8f0fb02f5b542b3b66321a0fe7fdb42",
      "41d1b9649d7140218adb5f4bb26d8b4e",
      "e6ae1ba4c1324775a86c9045218cfc8c",
      "6d6d856ac9f744f083220ce89384b1b2",
      "a37ababbf22543c6a9bf977571871879",
      "e005f41c864242a7a6aca0aced99cbca",
      "92198e4c96d94e49a83239373aa26913",
      "5715f2b693f4412192f2fe3c043d8d4e",
      "e5fc8553bbb948dbae450459a8ba8358",
      "48c9497e22cf42fb872518a6b200ba9a",
      "95ec83bc18014461a53e14b89d3cb3aa",
      "68c8f1642aab4cea93be0adb77c26419",
      "451e7470870a41f78fdc53918db6b3c3",
      "41e420647c3b41309b7cc8451a50696b",
      "892b78b7c44b467daee763ab147efd31",
      "b0d5ad630c924a8bae1cd6c0f491f166",
      "c809fa4cdfce4ca69aa9ed675072e5dc",
      "a5b8ec4f2e4e472e9b5907e3abf01b34",
      "b976fe4e95804eab980c2d19c2cdb016",
      "09c15e8bbdbe4056908e6e988d427fd9",
      "f4fa8e8b4cc04174ada19da6ac5dfbbe",
      "6c6968969145467c93d9f9e71ed568af",
      "22473f840b024fed86da20186c9b74d7",
      "da15c128887749dca4b528ccb9435e0b",
      "e19459fe0cb6436d992b25322f177437",
      "2d2634bf851b41af8aa18b60a79c162a",
      "cf5e58baf884475892a0cf72c12c33f3",
      "5d9bc565bddc4b9186c532dcfecb7247",
      "f838e00e9e944e7785118484ebce9e53",
      "867faef26198428ab6eda55fc18cca5f",
      "500eb808f792474f9e5b99feb8a2c8f8",
      "299f80cab53043d49e1c24a477de2da3",
      "c7179dc29b24428bad0815049ee3dee7",
      "89c0496aa03a41c98adee6ef874272dc",
      "f3a5f461e14443d7a236b6f9abefc3d0",
      "ac604e6a416544719962a19030001bdd",
      "06a7fa9f7f8243bc8c6361d97aacb3c4",
      "44f1e970c2744ebb887c8f05c93fb744",
      "525ff8492d26467198bd92099abb930a",
      "c00ec2e2f8b6423d9aeebb497b033e18",
      "4d6ff2dc2b634c73a677dfea3ae93f6e",
      "7e8077a4192a4a70bd9c111c2f7f7e86",
      "145ff3bc9a0d4efc8a313198be1ef5fb",
      "c24a0caf3ec84c6aa087cd9de2901742",
      "1ba103d911354f04af88b6835db1fef0",
      "e1498a96712c4defb89ab701e2504e2a",
      "d13461b964bf4011926a18f1299f3d7d",
      "e50ffcafd8934fdaaf09851a251acdbb",
      "85472a10ab694d588633e6a208b46e63",
      "ac7d3e2cafd94e10aa8e54387f04228e",
      "47840ca342be4ead83f52a9b4fbf3396",
      "f6d8298ea2a044f7b4c3a7aa56ee2cce",
      "93a55c8445f2431f9695d4d81df102ee",
      "caa246ed47484f56bf194e1b83057c94",
      "b7386a92570943e0be21b96daceece32",
      "d81521ee326343ff86b5e38d91be736e",
      "156a0a8369f844ccb08b45bcdb7e6546",
      "b9ae557d71f54515a2265ebe1df3626d",
      "913498ea116946a39567ab22fbe14b57",
      "2c1b761758b84d0f9299911d8c1d6541",
      "22efcd6144374baaabd3cce68380186b",
      "520d8881822049ea80ea3155b2f5e5fb",
      "58af9bc42a894bd6ac90877de0ee461b",
      "3a21a135e369414892c32beff9444ae3",
      "5e01598097b046c9b0409b814ba34534",
      "c8d20ed115b742ac92e4d2ab8aaf1dee",
      "4f35247aac174ca9b489df33c6c2135c",
      "e6f25df0e8534268bddea344e1432bc7",
      "5b76bc45ac854883b415974b51131a75",
      "6094d3745a654effbdcc3d5c81e3ccdf",
      "ce4ac2db4b034f809667a72079cd1eec",
      "f653e2c91ddb45eaa43394a6ba33bbb0",
      "433fb745477d4265b16947db34d7ea4e",
      "1f200f02f6be4ad69bb7d1f297118801",
      "f1061ac4eb1946c5af36b076783d2f93",
      "f1f59b5115b94c349ddddb93f79cedff",
      "0eaeaf1ee694411b82a1749bb3b87b7f",
      "fa86032bf47640d09876f6e51d09a9d9",
      "56e044d341d6444cbec1fb3a9a14f9a2",
      "7c439b08a7424317a30e234e19f75c60",
      "b5feee6a838a4b47a4fa3f8982ceafba",
      "f51676ed58034e19b91651f2445dd571",
      "df5c0d45fba3401699eb649e9389ad91",
      "bb28902495164aefbd01c770dc8fd20b",
      "b1a5d8c6843247d6b0359daa32a21225",
      "755d3f24b24f499bbe459c7125c8dd5f",
      "2b0e5411c9f342e58a6ff6bfec13c663",
      "3a0f878c2b704da1852bb343bdeed4d2",
      "29f037d2b9ed41a2b2bb813d6f38cc4b",
      "eded1510b9344a379ca43e65ba24d245",
      "8c3fd74d5cff432e8467bfc296c07ccc",
      "b900388d772741fba520bebd8a7c7d8a",
      "3b9406dbe04a41fd9c6d99ea8c6ca210",
      "6479452e715943648c3e1421e0a58c42",
      "cf2c88ba06db469bba89913a4a649576",
      "cac9a7c79d0b4b9c8f3c3c9bf9c3b0bb",
      "705cb5263d534e50ba50df32a9ca9bac",
      "bda3d02deb5e49679526c0ddeeea86c4",
      "addef20ba7f840f38e3f102b3977b184",
      "1b03b57dd1e24235b7377c242457870a",
      "d1b91f483d284ba399f3ed2baee5f817",
      "8fd90cb388974b0dbf2dc92b9bb48f20",
      "6f1a4549543f4750998e39b62d066d81",
      "2014d9cce9884167947ba034fd5235f2",
      "e96c7ed2fba2406e91a5b0d676ac5407",
      "c6c2be465ad74c16b22ba87b8cb759f3",
      "1f103dd3587a48a7bdfe541ca91cede8",
      "01f8d9873e0f42a7a9b2ade01465d228",
      "b7059d1e2ef94f7fbeaa81f56ece90b6",
      "24af8ff311a240bca893c8efc0709e00",
      "db6e964bc381460d8b8e1acdd41a6d19",
      "aa88e265755d4496b9129f7e80fa4a55",
      "a7da523644de47649e6aa1e2d316d883",
      "94f7b0635ac244caba4272401c180072",
      "5cfaa65c4b3e420bba5beed061d043a9",
      "c1f0e2f12abf47139425a8e15f97b3fd",
      "56fa3a0fe3924fe9a39b39fbf4045ec5",
      "afa5f99fb421465398de22a35f869009",
      "019f355df89f47a1842ef360f2a1c2be",
      "cb7c8787cfaf48f69fe91c6b606fcd57",
      "fbd74479b6864747b70644c11637452f",
      "e963109b48f448619112d6e96e4044d4",
      "37c40cac1c0e4e348c1b47853d0202f0",
      "6d360c1d4074437d88919f43148e8649",
      "bacc548055b94212b78f491ca18ffdb1",
      "5d37243c5e2c4911a0d1ff6869bfa1e8",
      "8a15fb02690a476d81c2f93d14ea1477",
      "fb726fceefe24f7e86a2aa9803cf90a9",
      "792fef63df7d447497ea1a94626d08f5",
      "d9ca42b369314474b7fdbaf171755ada",
      "d8d20dc83bca4e72a9c7b7991ff11466",
      "ba3543e4ff274d3086a9d7058eabf776",
      "77cecb0c3a1145ce806780edf016698c",
      "464179e2cf2f4d998b52ea8aad5fe06b",
      "f947c4009eaf45708cc6f6946ac5af50",
      "d7be6f423d9f4992bad3c06e4c388949",
      "69714a05fdfe428e917fd1b287e5539d",
      "6b7719bdda77444c886a08a562263507",
      "da87799f5e3b4ed9b934721f79ed6e9d",
      "37e9ab327af44a139ae3406a5b41a66f",
      "73b08ce93d594f39a15d82046c44b172",
      "9a8428b76d0f4de9b06b5c020be83303",
      "b0101ed4b8414fc181b42240823ae153",
      "de5b8ba5edea4c98865b04fbc33de049",
      "3634eba0c9854870908471f02c89ba98",
      "5ddc8fa078504ee3a92bc28b951b41d0",
      "ab92e66f86a34e29985c9168bdc33c81",
      "4624461d061b49adb55ef89cbc9a9713",
      "182bdf2c30c84bd78ca25347ebf8f7d8",
      "1c3d0f5e664340a3901f30600f5e8840",
      "2a177bb27b74479883f0a1061f116031",
      "d93a08447692487989f40294b547c2a6",
      "60a42f435e4745d392c7fde1a27cb084",
      "1921fd1967cc4bbf88ea724ccced2d3a",
      "04f5b2e9836c4b27ba10287daeb668e7",
      "d649da2c892a4df6998cf7b0deec3974",
      "68fb40d352df4c1594a0e14b384c7b51",
      "42e4260c838049f090bc3b2201c13068",
      "4d91122a531c4fb88df5a8fdaa8738b3",
      "f228859e434b422c8f90b123bc350406",
      "f8ff694c74f84c8a948c287c91a123ec",
      "0590daa27ecf4ff4bc7e6327a6b00866",
      "393a2b732cc64d4b85f4b2905befd3bc",
      "12234c1b7dfa4a6ab1922ccc6c0393b5",
      "32029626adca4d7fbdfd8b19acae689c",
      "5da58ea5bd424713acfd72245ac06c42",
      "1c93ffdf895f432383065fe8a12823be",
      "4a3a38f781a648c1ac16cd741699df76",
      "b4fddb26eba94617955eb8babe1589b2",
      "6f6663ac18034865a6334bc6c1f113e3",
      "fcea628d10b144fb8d07a74f000592c2",
      "c7503c338c3e4dac844804f9e8fe5ebd",
      "68da45d3bb234ed6a04a360d69bd3c2e",
      "d89baa56f1d34ef8aaf4ffda64095aca",
      "e293915c29ee4347abd935b5c2e0b4aa",
      "4d3e2166c3d84d6dbb1b6c9aaf86031b",
      "05b4c1826d6547249e4d30bb73518018",
      "567a695aacb44eb3af818cccaa80911f",
      "e6aa2ff0e4564e5db44fcdbbea00e34c",
      "29fc06cd88e7477c9777cb44ba4ebad1",
      "68d39c816d2242129f5ca1b6095df77e",
      "2a9537fcd70b40e1b24f07ffd018285b",
      "2ed24d2697424883b8e4a737591ebd08",
      "35c4f10592974ecd821d2725f268e515",
      "82a158b3a1a7408d9767a21356d4b148",
      "d10f85e504864d71870076fe6e695488",
      "28f13aa56c204c959b6ad6e89dabf762",
      "608f7a1495994454b0893d2b8e342399",
      "d5091083c8f940c68a0ac33d606e3202",
      "53c380471c3c487fb5d19354ee552311",
      "5c4c38b61168418e94da60cfdea1109f",
      "b43f8298643e48cdb9e0a39a713a0382",
      "67849d8c95c2478489b243114d52e5cb",
      "616922036af740c0a410fd785edd8204",
      "2d6852e54d544d9db35abac62fa0a702",
      "d93bcf77ab5f4364a9be2bb615003088",
      "6bf7f160677c45ff8f82739c15642501",
      "e5acac27174b47cb95b555f19573a5ca",
      "0b606aa780c44af5825fe9f8a12b74ad",
      "476c544689db416faf7e89832c340a62",
      "efa8aedb628a4690b821f0a339ee9dfa",
      "50ea2ae9ea86447191360d5e27e3fb9b",
      "8cf444f5d442483ab9f3850b00515eb6",
      "31a2cbbca2e04713a377dfacef2d603a",
      "2d745d24acf44008849c1a0d4fa23e47",
      "e7cc946ffb774a388ebe0ccd41635eec",
      "5b1b808398fa4109be8d72f8d8c9de6c",
      "182b1028f1364eac891165e93cb9a37d",
      "75340f9de05f47f28cf7b7cabbe96fba",
      "afb05a3975094bff977dfc9c27bea09e",
      "90be65dba81a4ffe85b9090519a03cee",
      "b98bf04755b54e0bad5090e474876d7c",
      "cccfff37cbb84424a6272c7bd4de410b",
      "a280cabad16d4eedab6b7fe72606d38a",
      "1bc1bff4265f460ca101baf99c70b6ca",
      "e222dd9481644f7a9ff66a1e53a4ac8b",
      "d74548442c214c258f98a5bce63fa969",
      "1a3267f3107c4045ba1bf6474f91f89e",
      "aed97a6b2f5f4f1d902c68fdb727c5e7",
      "206d1a23c9e64f2db1764cec38fecc7c",
      "ecc3d712071e456a8e3616591ca919f8",
      "5a3d5a7393e345d6b2cb203bb0537954",
      "9772526e412f4ca3935f4ce125b7f9ca",
      "aff4cbfb643c4102867b9a6c010b6693",
      "7be5d83c932a4c458e18a1b71bb1a74a",
      "48e190f4286944d1a2f77c0fd10fdd85",
      "f6450236b5364a5daed8675b2dfa4001",
      "adfa663d094748cc9c8eff7502707757",
      "a9b453c335924d1cb35faa5296e8504c",
      "073f48b93d564700af522be3eabe38cc",
      "4c6fadf23d484da69b09414b82244246",
      "07d824b9cdf64f2d800566cb0b8e5875",
      "275a92103ec44569a28c021f6f227592",
      "eab20bf68f8e46729a0b8af01efdf44c",
      "9b07440d382f49328defa11cd86cba7c",
      "28a9b8ed234a4dc780c6d847785d5ff4",
      "bbf2d8944486446a90058cae41416854",
      "818966e545fe482798b5f742f33f17e3",
      "326501ef64ee4497b5f061e899aaf3b0",
      "5eb1b632baef414eab00f32114ded282",
      "e829aa35f7754035a058a782b24fe062",
      "4e0d550b22bc4c689cf2dacf6279337f",
      "e045c16907e34028ae6d397715e8790b",
      "79bd706b587243aa9e42ada8f5bdd6db",
      "44e2d19b4c1a4921a579f50a9df9fe6e",
      "04c32f73955a4cbd80e5d6254f126d0b",
      "5bed81e92ca94ffc94939775b951d672",
      "cfc08190731a42c488118b65d890651e",
      "4163c8f20ebb412b95366abfa1a6b956",
      "151ae247e6b2457e81cdbef4226c18bb",
      "6b3cecad08d349da951ee1f6c7117345",
      "6981e9251ca14429b62ed5eeded51017",
      "434f203760d14885aad0b36306ae34c5",
      "07c667a5de8e4f0091eb918b68dbfb5e",
      "cba3e21a44d34e1e81066bf9d72ad92b",
      "720e2ccab6c14d6abe61c6f96f83e3e7",
      "050c55c7059147aa91d0ec480e3064ec",
      "da009223e06c48a798c50f0c90e89ae9",
      "50db906119284276b64ef7289f977777",
      "483775d950ec443fb630082cec0cde68",
      "a2a40d48bfb245ea9e70123b4231ace6",
      "0b361951980d4ed88cd062095f2867bc",
      "e949ecdad2ca4cbab41c392d00572b86",
      "90fef09bbc1248ef8b7108afa110253f",
      "79f2065dad664533934bc0d0f99c7860",
      "308f3c66d8434c40842287b00da4d5a1",
      "5f1f640684994d1181e56e252112d31b",
      "d0305060dff047ccab5dff2b245daa2c",
      "0f6d84c7aac740d6b7edd353244cddef",
      "34d60f549939452baa299c41790e82e1",
      "98bb311a30f849e09d36697aaf4fae27",
      "b669ad8bc959416092a2209c484bc5d0",
      "afd35e636ab141bc902be7ba74b56f7b",
      "6880cbb934e94d039eb5aaeeb0af9e72",
      "84e597b7e39a413fa1265e04ab971494",
      "2a7aeb7fee2d4aa5b97530a04b9291e8",
      "253448c9421047249cf2563771b3b5f5",
      "d6b7132d0dc54fe3aaf5e0a25d96e766",
      "1ed1497c17fb4d499d239a60a9cb4c90",
      "b5a039aae44c4a0a85a800432fccfc45",
      "3a43d6adc19146188fc53c6be14c5c87",
      "897866a86567404cb70e4b22bfc70d3d",
      "4d8c2e796adf4077a7624cf177d476cd",
      "a4cc587b32cd41a28a80bdfe09d7b577",
      "9b2a6e747abb4a33aef3ec1d82f4ab20",
      "19ac345d77c24aed87b16668bacb3fc7",
      "75020f303d6741989bb222cb53e0ebeb",
      "1040b03fc9484ea08f5a9c1eb50fc40c",
      "7fa8f316f3d340beba8bfcc59afdb7fd",
      "42d8a7220eeb4acb89facc90b5569023",
      "bb0a18fd647c4b7e90f749dac1a8bc97",
      "ff1ffd846a364969b1eec51ba317baf4",
      "a188e36b7ffc4458a953088d5d8ade10",
      "8bef1b37d8874dfab29493052f3b74c8",
      "d31bd67652664752a6e890febe5d80b1",
      "810c16b318ef4db0b666c5d4158e4b73",
      "849924cece9649b780d082145b2edcd4",
      "98a49767a2fe4104a6946c41f105e7d3",
      "abf6c3354dae4440844f190455a5c04f",
      "6c66f8d3a2604d948b7e2a8fa083b0e1",
      "da08e2be80434602b2a7826db6b15d44",
      "d398e789723a4fed8bedd0885e3bba28",
      "0892e910f14944049fb240c574f0c2b6",
      "d1b1c747c163479aa27f752c1dbf6b6b",
      "9a1e632f36bf4fcdbc804e78f0dabd8b",
      "cf87dd8647bb4f219501b35c5c7cdb0e",
      "2f75480a82854795b561c9fbb6cafef8",
      "7f1aaba49da04f4aaa3f93b3ac291835",
      "fb251f61ddf64dcbb9ca60aa234ad01f",
      "dd4701c7cd064ef3baa05f71a1bb2a22",
      "31648db4ed9a46c39cfeac23b6bdb51e",
      "9ce3f29c65c34a45a9850442c22e7cad",
      "40c5e484e1f74480a7a3959416ff3309",
      "0e7cb670f0e14f598d0e1f96cd152cd7",
      "e920e09cb2694b0f83f0067c79d030b4",
      "82480a128d73467c8c812d25f009b35d",
      "dd8b034321084e6a8a12f3f7f5bd46a3",
      "71400f845f05434da92dbf8bc5279572",
      "fad357e1f7c649308f8daa98436ade12",
      "ba0f0f752c5a48f98d5c07ac0eba4ead",
      "b480730319194a1187c469d95d5acd10",
      "340998ff73aa4e6ca42dd51b858a8a1e",
      "30db26331697438c8444988a73581868",
      "9952506916564980b64bcdef7417dd84",
      "40149b5878f4437bb07a3eab4d208809",
      "f587fa0c19b2449481719583bccdddbb",
      "862dcf6cd90a4d6da3567a1f45087ca9",
      "406614b8a85c4c7eb31563cb0910a7d2",
      "ae731c6736a444fe9e72d51be2491f42",
      "fb56f9175fd24191b9d027134171c390",
      "e59aa941308840af95daeb25fe224440",
      "e1bd02e6aa544508a9ec9b21e346de23",
      "0a59e484215546c9a9bc097fd01e59e0",
      "7c8a730409e64aae912e7693b118d72d",
      "21c7d4ea33d84740907c2152b1c91365",
      "9952cf2c10004765ac102a25cccf16dc",
      "1ccbccfbc5d94d4b87b15113cd2246fa",
      "d487492f441542e69129d5017769a3d2",
      "996b13191c7842cc97355350fc476d2a",
      "54361333beec453fb8761189df3e6751",
      "ea1efe3fbfac4d888f62c67707f3f136",
      "a339f1cbc072477e947cee07d0205dae",
      "3b886fd64292454bbc9606d764822e12",
      "182ebcb3a6e64626a8ed4f3375634bda",
      "d5f3df9230984387a4d428c74ac88492",
      "fd6841252c524448a83b16a3ff13ccb0",
      "9ca6008029ed4f2b97a7092499b65779",
      "632b5cd3bf064f668b3beae15513a4f3",
      "5b7d9b174d224fd49a4120d5ea213ffb",
      "43828b1c6de3453f87004eadd1230a77",
      "d4c3d5cd850a44b0a8dae70d8ac90f5e",
      "25c4ab6fca3044cebf4f35adaa340528",
      "f53c2413456a4c53bdf3e38575efe51a",
      "b3e0b4c933224c0cb2d6ac5e39f60b98",
      "b0c4853d582a4b748e311dd68e49018d",
      "5f99aee1bb0e47bca79eec3d3e96a608",
      "feb0ec79ac4242a69232b77d93ae22b5",
      "aab55796885a4c42ade24681346ef8c5",
      "f837a6e2a1c94d5ba85e0dfbb03641ac",
      "ae8a756927f346e29a38852bc5cd6299",
      "da66244a8e88486c8f2963eda7b10edb",
      "cc89bb258d0a41cd9cf50b076be19c21",
      "033740f184e84cedb6757cc1d3da2466",
      "054645fbc0954c45bc10923d8edb47d5",
      "87735721193940b79472bc1c586279bf",
      "18e5769fb452494f86e19fe67d9f6b81",
      "f3c6d084560d4c72b2bd35dd2005b71c",
      "65101bded1df4cc28f3298a692f3349c",
      "4261b33a00be40de921e8bad8201f3e9",
      "6bfbd05126804e12adc0dcd3c2d2fa2a",
      "456a97b1d3e44c938abb21874d36617d",
      "d462c77458934381985678f4770f803a",
      "f3fd3ad9f5b34b07a48416373df12a2a",
      "b9b445eb2bd24928adf5a93a8b170532",
      "aa726c1c28c34249b3e900075ade997c",
      "4c737b474a98462d87baa25cc2133b25",
      "d8f5662b0640450ca73b69c06e664815",
      "4f3b6640f57940ad94a93785a91debd3",
      "89a6ea041fb5497a8d4b53592bc1d317",
      "e7a49515d7be4eb2adb703fa63f0df2e",
      "d106e9be6fe84cbdbfbc3f306f61f862",
      "f9c3cf706ae6422dbf59ddab4b1c3374",
      "1cba68dc9bc54e85afb5f269e4ee0e3b",
      "4c293cd9680d439c91559e8ad4e882ba",
      "ac8b06f62d504c3b8c6af6bd78e30a0c",
      "0d8c931863364a9faff31ceae52a261e",
      "05f5cecda48a4a948cb3250560984f06",
      "3512e30eac644595a2c45610bbfc8ddb",
      "0a37f43939cd4486ab07eea82bf2a4f7",
      "dadd1ad25f9b43db82f687c2df5b2532",
      "86c6b283af4a4cd3a1b708e6e8c4980b",
      "8cf545880a98411488da10a6e30a1fe7",
      "fa848bf979e04e6ab05061cb9d899d88",
      "9b34a94144af461f87413ac2001e6f64",
      "6c417fc567ee4d67a70b2c88a85552ae",
      "b342d60881e746759989471975f156ca",
      "1c9100eabc934ddb9b0e2a4569aa2d12",
      "d474e40ca35f4fc9a5eeff326882b887",
      "13949eff0f354fc19d077ab1d6a54853",
      "4b701d3a09c244e7b006040829f54e78",
      "b145af9e940341aab12bb5dbff0953f4",
      "9d6cf1e3b1e8438f8e1a9e7fec637eff",
      "c788a3d693ae403f81792d21ad470651",
      "f30b98fb427f43798907751768ba988a",
      "4f0b58c6144c4e7cb7588e0c1d65fd4f",
      "5ad28b9857344d67bbcecfb18d992dd3",
      "4766f61407bc4b9988a7f9947c3f2568",
      "da1a475ab4f744cf98264f51e619ec09",
      "44da369d674e4bfeb072b1b4105ae875",
      "e43b3d26ffe140ad84d3a8994b97b10e",
      "fab847c1e02f41d5a7dbd2fea556b898",
      "0be74bef74b7491db72d925c0d5d3a67",
      "881a9db950eb426bace2453bd7446629",
      "d6f98ac5dc174c618391e25adecc1c9a",
      "82141cca86cb44fb8307d4de738eed67",
      "df0ec2b35eea4c26abe6bf96430f0002",
      "f205d0e1793e4131bf944c98d936cbb8",
      "639e532e58294461ac8ffb9c9d22f951",
      "5710b23ab9ed493c83a5801fcbccc0c2",
      "fcd99e110eb44ed190f24af55f278646",
      "62b0277da8fc4c9393569d78519ecad4",
      "2337716f8e5b4987b085080eb58f2a53",
      "d97905a227ef4e8c92bb0c337422e8a3",
      "f696b51a90274c198fc64e2e94e2df68",
      "ba134a5341d643488ca8ba84cad8a4e4",
      "29777cff71bc4cfc99fbe568a0ddd125",
      "c7dcc0cc5991488684f3991fc1f437e7",
      "17fce88423704f5288937800b822f509",
      "9ec8e1961ea84848bba802e6bdabeaa1",
      "5f6c53dfd35f42b2b9412dfe2a153467",
      "7c41148a6ac44efc954c101c51738cf7",
      "b9bb3c9007b54ed694c55e26d326a65c",
      "ffad71ee3d8b4183b3e918ce13ccd307",
      "7c81bb7c014042e3941c5faf72e18e08",
      "a9041071de6e4333a231e4ed4f167088",
      "f751afb195634cc5969c10f123157896",
      "da34b17156514407919c0d8487a3e403",
      "1ce6474985e34bf89fdd19c1d0320a4e",
      "948594acf3b543ce8bd71a9e8a200385",
      "5e95b845e6e7457e831ec1a75188da98",
      "1c7d06fba30f4ac38addf19255279fff",
      "ab8d27a874fe406693e103c3cbd1404e",
      "f206b2bf1d9248f0ae2b0e02ee9f2642",
      "f2f7424d81f747ffb8917715cba5cc48",
      "bff69c9f550549e3b7bf706d9b6a63d6",
      "8abc303f7d5640b18e1a03fe5e754cc5",
      "c438e51e5e1a44da9793fa8f1d6b2eef",
      "fcf976c5ca5a4fc4a5fc8097ad81fa24",
      "b1a50b91400c43be8f9c17fe3825e1cc",
      "6e45de9a4d53453ba6feeaba36e4eb32",
      "fbae5b52ebd14a379f306d9ad3207f88",
      "e4d37cf309624fcf8beb2303bfc3d7b0",
      "90a3e0608a404c038666b6a4b876c082",
      "fb646aad2468420b94fd172af618569d",
      "84346e221b4f4cad99d8ce58b67bd68a",
      "e54fcad7c12b4da2b23537785c76e44f",
      "e939a8d198af4bada2d9747d29afe4a7",
      "656bdc6ab6ef44c2834744cb90220cb7",
      "6c38ec9f2b60485f81012a6ee156aacd",
      "5f111fd07d7f47aabf49338ee159592d",
      "10004921489f4493ada7c000a7b96ce6",
      "fc881495162148408eb0762ce1c2c10c",
      "0fea4725dbab42f2a03eccb96f07b4f4",
      "2adb757398494e18ace409e1378371a6",
      "7e781b458dfd420288220d5bf889f765",
      "01ce83d79b9a48e59cb00cb513622ece",
      "d2d9b239dd0b493e8acb2c5dced388a7",
      "0c6ba980d07c427ba83b095bc79c7202",
      "bc5acb486930468790686d050abf5164",
      "4f731756267845fda818ce14a61fbd77",
      "a8ebdcaef25e4a6b82fbaee9bb9ab6f9",
      "45d140b9de84498fb00b91d7b5d2b29e",
      "aa8ff49110a74622b0738a7d024af3e8",
      "69c895a38db2484eb4c6fcca6c30c689",
      "4874561118bc491f847adef3611d010f",
      "d7e309ec8ef34bd6984e34ded7433f10",
      "90e1d2c57d4346caa445cb51f81d6141",
      "2e1634baf7254200b5349b26705d2646",
      "9d4d9df030be47ad80aa6426a4f6d9c8",
      "73d47794b07847e0b805d387d4d25bc6",
      "00b0bba160a54cc992fd675e64df3093",
      "a21cb06262a249869c5496cba3f6ce85",
      "4e73bea6989c42e394ea81e03c553791",
      "0d0603c2c65444f3bfed5ad8cca8ffd3",
      "69f99589d0c6441f98c20e0dc4bb812d",
      "5a48bb28f7384403b7158331933a569f",
      "b6b9ef6f0bad4f5e81b3f416801e65c4",
      "f018bbf017f74965b5d35ec935937f8c",
      "fbfc406b3ce54d9db69f52c2668ba3e1",
      "b5e629cfce6e4b30bbd52453dd74d538",
      "6ac8b6586e7d4a56b2113a96e5cd401e",
      "282c9de51004479caa36057a595e8549",
      "98a23dd2491d4eb5b5cbab333c5a4e54",
      "81b88db8d20046a6966578f6819a95aa",
      "f25d76ba405d4b5eabec8813dbcc77ab",
      "915dcbb7dcf9413a9aa959de8d660b6c",
      "3832377d4c6544f5a18411810021e635",
      "bcf33abf813c4c6191fe39502878def1",
      "63f182d82250438993c5d2a7e04ba5ff",
      "f21d0b96abe045f2aaca8cf35b83d95e",
      "100e6146be324b299308d65383c65b16",
      "e5ae5acf9eae414bbe76dec86e4f8a4e",
      "40323ad90f904723a28de5087078a87a",
      "77bd861fb33f4d23a10fb1b943f768c2",
      "67b71ea6bb0f4afc9c80c15b24cfe3e8",
      "5901a4515cd04ccf840ccf42d265fb24",
      "3e00573cb41240e1b1343952933960be",
      "9ed60776766046b18ceaad00e7720eb9",
      "fc090d8c424b4b9c9b3697ca6c602c2e",
      "1cbab84e061d48de9db057a945cb5c05",
      "5f32526f5e914e2784f5907ac3b72daf",
      "e3564007c5214689a00c678e0bf67114",
      "83373e23e86143129b89c4075eee6507",
      "37fa3c2389de49e7a8a9d67d088c22b4",
      "fc6b4d10bcac423c8497eb78c4b92edf",
      "d30cc1c2fd4342589a6e18594c23e18f",
      "20d550435ee246c18fe5d0c88b9d01db",
      "e6fc0f806ba34eeaa180648998a7c6a8",
      "59c6737f8eef4813bcd334a1c681d3a9",
      "9eae21fdf70a47d09a4dec060fc262dc",
      "d37e749b9eeb4d919d83c681682dfb1b",
      "5ff12f533b244b0d83cb9d182f29f7f6",
      "d9d06c307c3447258568b9dcc3b520a6",
      "d936238fe9f1456e904855b6ec944b2a",
      "46704a527b5542ec819f84949ca2e304",
      "3f8e16a4e5ba446e8b28062b935d688c",
      "0b595a22f5444885b4c4f773aef05a89",
      "9ca623ba2e2b47f19056381112957441",
      "d8f7170dadde43a1a15f785ac39361c5",
      "bfb941aa37de4f999e333961afc5de64",
      "6f1ebc310a87469b8ae6c9fe87f28d7d",
      "0ca35cb938e5449589e5ca8a9ae7679b",
      "637fb0ff4bc64c15bc27878d2e5b0362",
      "756c324b93c44e24adab3f6977299cfb",
      "fd4a6ecc2f0b4b23b4e1a0228e8d737e",
      "99d56f49fc63447b8dfb51b0773d3c78",
      "1f70b055873a4a9ea2d26dea7d72cd55",
      "2678a7737fca4ac79862b7136ae2355a",
      "e7b779de30834fabb5b285879eba008d",
      "43273f88aca548febd01eabba265210e",
      "14d7503b8ab54e5bb11b77117e2a964d",
      "26d7705f764b47c7811e2800d9103777",
      "5e49f4d18fb04d3ab6871befb961892c",
      "a584926611c9474f8ffc651fd7b7f498",
      "b7e5e7ab4f4a451b86726cbf5eab311a",
      "f5ebdf9d8bd54ec692ec76a9a4f4a668",
      "85ca1df694b247b68fe87c907669d110",
      "aecd2e2cce1942668c4db921d11017df",
      "6ec0b443ac9a4aafb83a24a4b6651ed0",
      "44a96f6a274b4c9eb5d015a09f46bea2",
      "cc837585c78246a7aea8d2bc3074206d",
      "6eb5bd99d3414fe786c6b9cac9a1f6c2",
      "6733386c5df144b9aa8bfa38ae41c0e2",
      "86f0becd7eaf42cd83dc2d551b50076b",
      "322b568e3459458bbef1da4c4c6ac301",
      "a5d9382e757b4da9863c059ce12afad6",
      "be5913675dd64e8a8ed35a58dc88e0de",
      "8c7d00932eaf44deaf634bbdc7b863f8",
      "737d6bd310244e5cbf7134f4750b18af",
      "df39c9383a4f4f65865765fb10beadcf",
      "9737cbc408684655baf97011be09fa41",
      "0527024d6fba402b8c3b8a3b3265987f",
      "fb92a5087eac49afa7ceb6b34bc5d927",
      "83eb5c88f8ab43a0aa72776be504a29f",
      "c34c21971c284937a6a39de8b3a0b641",
      "6a05eb4d5bf648cca1724ab19f236ee1",
      "78bd6cfc21c74d718bde7a4320744a72",
      "ec7063cfae36438bb03de8f10ec78756",
      "15d474f7b46742cdabd09b61a362c76c",
      "aa3b58d2ad1544e3832a20b10963c779",
      "85fba02b1a4743aa887a70a0920684cb",
      "7d40228479c0485eace0e739f2261c1f",
      "137082b094de423396a4d56ac264d539",
      "21252e7a0a4c438f82fb006e164be840",
      "834b6c4430d84973a62704988b74b563",
      "80a6038c42a34da090d94df000be3404",
      "658c2d15df6340d8adad8ec0ab9d65f5",
      "7fbc41f392ee4ad2b6ae9bd1ec77daed",
      "66eab346c79f4cdfb9de1bff1f1f6618",
      "0e30ce4c9b854dd298b494de3628e9d2",
      "12d06b00da61405eb9532e7f6882369c",
      "797b1c8565e14339a444bf333eff946b",
      "ef60233aa3134116b73df9a7227cceb7",
      "e60afd91f22f459c9c59598c4e54f45d",
      "653184c555654bbfbf4ec90b1ad8e2b7",
      "e0c31f3433554954a88f67b627afc426",
      "ca78b4a08c7044489827a7275af4cbe2",
      "e9b4101f2b2043598545615499ef79f8",
      "fe1263fe11634c2d9e38e568f2e0904d",
      "2988d53f94684479a881c2c83bdded1a",
      "9b53e54a2c7b43bb9b9661f83a18be1c",
      "e6d4e4fd0caf48a7bfa3c7c146319d59",
      "03318a0bb2c041f196bfb89f90298b8a",
      "f9dc989ebd0f4d6c9dd92c39958aa122",
      "46e62dce86014c54a99771ce21ff53d4",
      "6a7f9c5ef4ed404eb522c7643925358e",
      "ad69a5cc70ae4c739e3ba63f9dc7dbb9",
      "1d2f4ab3d8be4bc18c8cc7c7c880c7cc",
      "c29edf588d3043ab801adc6fa1d0abe6",
      "ea540c6147f94e9a82f1cd6cddb9fc48",
      "80697ec2ac6a49678395fe0376476692",
      "72c92d8d1a2746b6beea4533f69701cd",
      "ffd2ffb2f7e64554a1f4788881a330e6",
      "c34c5d21715f4c8c8c356a75db7f6ee8",
      "fa21c62423a940a4b439b3fdd7949e13",
      "46075fdd0ea34a05be26c9adbb6ee453",
      "5ec3d1e5400c45d497d7f5ebee998582",
      "800fdfc0389e4998830f408cdde80120",
      "4c3859d42c674ae9baca59a5c34a1ddc",
      "19a280904bb7413dac46d54d317c7ace",
      "b47839e3b2a743d2b113efca7e1c9476",
      "d2e5b652f50a440297c325ab07a51691",
      "4cb0d060dc7a47ad84b7acaee55b8505",
      "2be43fedec6a4cf49a1e7008b7fa5441",
      "c980476cf82d4acd894411c8ad9ea8f6",
      "20c477f293434d75881d9140fd0ee6eb",
      "0a056a72779f406c998e03bcd4183f76",
      "b20e69c096a24d6f8e4391295dee3d92",
      "08692994bc3f48eaab57500b14f779a5",
      "7b493bbe63734a01862d92b0ae44daca",
      "e58fe1a840c8444486a2278657b588f8",
      "115d83b212344b67a310b1f21ac324d1",
      "b0604d61d369415fa7100c254a184771",
      "69d6308927cc421ea84ec1202f0a8467",
      "97163bc6cd584836a926597f8f2723bf",
      "9bd0fc7c2d8f4efc8378e3760d4aee3a",
      "43b64d048e06455294f9956d9a4752d1",
      "4643c8681c284bdcad67f3db4af7a15c",
      "65535900d55b4341b3877e31ea597450",
      "fc0abfa1cb4e4ba3841e1714be126cc9",
      "4924a34bea03443980f44787eb2a03a7",
      "994309ee0b5d473199edc04cdb332f2e",
      "aea04e43c78a4928afa9f99d56a042e2",
      "cac2620474ca48b3b2e5635379646e96",
      "10aec98f2955428ab5aaf0f817354b4b",
      "a846164442544a57a7ac42df70300ff7",
      "096262a7a0f34053a53b6d86905545d3",
      "4496a141e53a4b9a9d7d689f0f048bfa",
      "32c42585b2bc4d21bc4335508386c34f",
      "6f41e4416c0b46bc8b5e5c9a6076ec63",
      "e6605e0513c84ea39827fa4552113d6e",
      "a7fcb86ff5e74e6cb3192be7ef80e380",
      "6f4c63e5415741e0a7b952cefed59179",
      "8d9c6469bbe4426b933294a6ac5d1a21",
      "826aa3bee32a4a44ad87d0ebb50eadd3",
      "4f9d0a595bd54beaa2362579905e58b4",
      "b505afb47b204732afc2599b6141ad83",
      "793f4b8812704660bb4d563ffa6776de",
      "ae58d7aca6244a77954d211408e0b6ed",
      "5add4f5d0ef64c128a95041a9956e7c2",
      "51823a0d71b44538bfa632b3ba056990",
      "8996fedb0a5143d293c38d4162b0a2ea",
      "b11a0ec2567f4396bf7a9349f35a0d9c",
      "d0bc655fc43946549d69f8fe0d008fbb",
      "02d714e3cead44ad9df19c3f448f0f0a",
      "74858c05efef40349c38ff781e31c933",
      "2def414160174af2b9bb1149b3bb1b11",
      "ad7f14530eef47dd87f4bbb1a0cd65a3",
      "217bbe0068404d34827012e81170f5e9",
      "3ec6e6ab8ee24a479f8b4769c643eafd",
      "c9d26a24db6a401f93190de8d7fd01b8",
      "0758cf21ef8349cc945ca6c9096ce34f",
      "c0a1aaf8d1c2492fbb7f279cc495e24c",
      "2fe0c082679e4dd994225e2c8f093556",
      "761c58e33d9f438595b713c7876cd595",
      "a247338236e24314afee1f074f047cea",
      "25432501813c47738ac88a8ca68e408f",
      "de5b4c42db2b46cf97e660ed3e78f02c",
      "f875ce24df7e4e6db6f8cd8c17448414",
      "69cb6c27cca7446786146c3e714f57e5",
      "f22d065777e7447fa2ad5aadadd259a4",
      "5c395f166cab4e73b7a87a9932204534",
      "6109f9238cb141e4a96c7a4f7ff1894a",
      "97c9be3a55a64013b964d390bd614ed5",
      "c375bbcea641496c9c1b8f011827b738",
      "a20277bd40b94497adaec5044e81d757",
      "7faa644c9d9c454c9f069b47f543cdeb",
      "41cf55f485db483881ebde7b58ef8d14",
      "58b13f2e1bd84f1f8d36efba56dbf7fd",
      "38f9ea2d92a842c3862ce6c033986f30",
      "70b20d52aa3e45309edef4d61d99ab07",
      "af3eaeecc0ff422694ac3aaae6d76f89",
      "bcb7efd9a0714208ae7476bdeee45778",
      "f0c41cc77313446fa663f90a6dabe867",
      "f4f63c3c323047fbb154d8384fe23930",
      "13fd126b78624222b5cc3761221ed1d1",
      "ad1fc4d20391451c9090964c81eeacb6",
      "28f8361984004a3db4e6a5017dcd1c1f",
      "59acfbe68f3c4b5baf073bb82977c303",
      "50c509426fe24cd69af61d71e4e9ccb8",
      "8176d8ce7f7b47c7821092d044621e92",
      "9431856fcaa94528b2d384f43fb6f9c1",
      "39d66048d98d4b07a8d908054483c471",
      "32793548221c430f91c595422ef3dc48",
      "103534e4e353489f9ed731ebdc21d7de",
      "ae55675325244063a2133afd93ed3613",
      "c13fb2c520234325ac61c3fcc93eb239",
      "0f18b78e1b6644dca49340c28f95a443",
      "baaa52cd242547fe918c5c49a86c68ef",
      "650750a5e60b4b06ae15e139868fa101",
      "68e2b23002064032937c7989b26c6c5f",
      "73dbd63f0cf646b894556b5d779b8d4d",
      "eaf50463183040f48f83f00f185f1ae3",
      "f813e32f1ba54c00b0c133d4f5d34c26",
      "3e09bf8d677d4a0387750c37096b5236",
      "b40324ced8304ba2ad51b5978cc1996f",
      "643b1ef71a94448587230a17057021ab",
      "1f9f46a882214aa4b2c3b18a750b9545",
      "4b79f816ba994ca687d69123f0452a8e",
      "da7f53b0d6324bbaa82367a07fbeea8e",
      "84669dc5efa448d1b16334ed32d6f638",
      "cedf0853d359477e9e394224a948164b",
      "b2f9624ee5554d458833d0ed8d3af05a",
      "f783910890e7447eb72a890db4e33949",
      "c3e5949b612d4407b94dac970b3c3136",
      "40a69cf6a4754347a1470b167e448068",
      "50345b903d914b4a81ea1f2dd2194b88",
      "02b7d8b0a9b241539b2467a8f1354cd6",
      "ad1c204ded5649fcabe76ba11fb353a6",
      "3456094926c74f61baa6cc8298bce0ea",
      "9cd41ac96280430f96fca1c8442e3fac",
      "c7f314c6ed27458c86148150d478bad3",
      "e7772cc4b7744b5187009d9eb4ccbd0e",
      "58672094002d4c9aa0457d96d6ac0d05",
      "54d97724280d4a3cb17cabb803714fbe",
      "b6af96d50dc540e59b458af48dbebb26",
      "38a2b492ab90431899c578f64288199d",
      "c9d6b7e897f949d4902172c859a4dbb1",
      "f78553c6044c4574ad95bd330755e437",
      "5b2798763dc841ff85111a498713cad9",
      "fbe2775f44064c958009c7842b647322",
      "047fd2a11fc648888ac5878f2d163fe4",
      "2669bfd1ba58455aa5f985c0b53b1658",
      "54dca65c516342309e4e8b5b117a6295",
      "d69bd25c033841bca288ea39496dfde6",
      "03db732e9cdc48b895e2380575806a18",
      "0a1778b69c9c4ce0aab0ee83fc24485c",
      "580bbbc891014566ac30ef65e115362d",
      "fc38a738335648ddb2258255bbc16a72",
      "337e6843632442ef9f495815199b77d1",
      "6e95e73ae4cc4619ada69a6f6ac044c4",
      "9e75883c35294697905c49f6cb37a4eb",
      "aa162ea6bc914b9f85e93fbbf3c0aaa7",
      "aa89cc32c77244d3a9de198e54613766",
      "70d4ecc4411d4558a7fdffc5d09c3443",
      "794ca707e368483e9d52d5a8758fcf25",
      "1f22175761ce4d708184ba7bb292a898",
      "59019cc20e4949b99945989081290c9a",
      "f8612bf021f54fd8b59afe93d8b0a55d",
      "209474d4a59646779cb106ed51012211",
      "0fae18a030fb440bb2d4b7b781579e84",
      "8e08e46f80cf45adbffa20a446d8e1cc",
      "9805c978335f45f9b1c323b98517eb37",
      "7d67b3afdea34d60aa0aefcfe5aa2d04",
      "81956844fd7a4e6b8fc9b8d6bd524b7d",
      "c18647e431974e7c90d4e409ce26c3e1",
      "4b9d41d07ace49fc988c6772577a9203",
      "d906dc4890b14448b87342bf3032f7c9",
      "5257f978e90e450ab16ca23c914367bb",
      "2489b64dba7940c0a21b921b89ec6b1d",
      "34cc3dc2521e4b17bafdc6702800349f",
      "17991a3321d64198a742679b232bf72c",
      "66af09791ff347d987f7020df65ca7a0",
      "34bbd8500ba249bc845523aad3a57209",
      "d7860beb5b2e421fb83fff20188a1017",
      "5035d95e9d434d7a81a82657920e6e3b",
      "5ec5c0d834de43d7b2eda16554c54d22",
      "d57c91e6435246dcb100d4c681566ebf",
      "96757d4bd5b1437da2f94cb6f107ebf5",
      "ef7d50198ba449c58022b58dbbcb2256",
      "e0026a1be6c84991a0698d7703673752",
      "54d45a6e62be4aa99341638520e90563",
      "9857b6943f5e41ca994823e60ae89dc4",
      "ce6c632760f54efdacdcbc2ed7975663",
      "a257edb58cd54d3d83e3c04b1f0d17d9",
      "9b914e631c7c4a11ae2cf4d8da339534",
      "a95de604e6834ffd9952c5f116be9a43",
      "32cef0a7c6dd422095aa9d1c89739fb2",
      "d21c24c82f38482681493cc28621f0a2",
      "2405f04390274afda4887c2e796ce147",
      "2c9b444abb92421683b998206f9e43b5",
      "b72d28a6fe3a4c5ab476277289880c24",
      "0b7f4bda0fcb4893b28a3f4e4e76e675",
      "916e5f44ee204c2bad97e1c0437ab84c",
      "4c058924f7fd406e853757f00bcef080"
     ]
    },
    "execution": {
     "iopub.execute_input": "2025-02-04T13:57:16.108248Z",
     "iopub.status.busy": "2025-02-04T13:57:16.107942Z",
     "iopub.status.idle": "2025-02-04T13:57:16.142077Z",
     "shell.execute_reply": "2025-02-04T13:57:16.141033Z",
     "shell.execute_reply.started": "2025-02-04T13:57:16.10822Z"
    },
    "id": "lEQ56GKNE2oX",
    "outputId": "2175335f-01f5-46db-fa8e-238dfe429175"
   },
   "outputs": [
    {
     "name": "stderr",
     "output_type": "stream",
     "text": [
      "\u001b[34m\u001b[1mwandb\u001b[0m: \u001b[33mWARNING\u001b[0m This integration is tested and supported for ultralytics v8.0.238 and below.\n",
      "\u001b[34m\u001b[1mwandb\u001b[0m: \u001b[33mWARNING\u001b[0m             Please report any issues to https://github.com/wandb/wandb/issues with the tag `yolov8`.\n"
     ]
    },
    {
     "name": "stdout",
     "output_type": "stream",
     "text": [
      "Downloading https://github.com/ultralytics/assets/releases/download/v8.3.0/yolov8x.pt to 'yolov8x.pt'...\n"
     ]
    },
    {
     "name": "stderr",
     "output_type": "stream",
     "text": [
      "100%|██████████| 131M/131M [00:00<00:00, 219MB/s]\n",
      "\u001b[34m\u001b[1mwandb\u001b[0m: Using wandb-core as the SDK backend.  Please refer to https://wandb.me/wandb-core for more information.\n"
     ]
    },
    {
     "data": {
      "text/html": [
       "Tracking run with wandb version 0.19.5"
      ],
      "text/plain": [
       "<IPython.core.display.HTML object>"
      ]
     },
     "metadata": {},
     "output_type": "display_data"
    },
    {
     "data": {
      "text/html": [
       "Run data is saved locally in <code>/content/wandb/run-20250205_080046-64oszwpp</code>"
      ],
      "text/plain": [
       "<IPython.core.display.HTML object>"
      ]
     },
     "metadata": {},
     "output_type": "display_data"
    },
    {
     "data": {
      "text/html": [
       "Syncing run <strong><a href='https://wandb.ai/tsp1718-medi-caps-university/Prototype%201/runs/64oszwpp' target=\"_blank\">p1_v1</a></strong> to <a href='https://wandb.ai/tsp1718-medi-caps-university/Prototype%201' target=\"_blank\">Weights & Biases</a> (<a href='https://wandb.me/developer-guide' target=\"_blank\">docs</a>)<br>"
      ],
      "text/plain": [
       "<IPython.core.display.HTML object>"
      ]
     },
     "metadata": {},
     "output_type": "display_data"
    },
    {
     "data": {
      "text/html": [
       " View project at <a href='https://wandb.ai/tsp1718-medi-caps-university/Prototype%201' target=\"_blank\">https://wandb.ai/tsp1718-medi-caps-university/Prototype%201</a>"
      ],
      "text/plain": [
       "<IPython.core.display.HTML object>"
      ]
     },
     "metadata": {},
     "output_type": "display_data"
    },
    {
     "data": {
      "text/html": [
       " View run at <a href='https://wandb.ai/tsp1718-medi-caps-university/Prototype%201/runs/64oszwpp' target=\"_blank\">https://wandb.ai/tsp1718-medi-caps-university/Prototype%201/runs/64oszwpp</a>"
      ],
      "text/plain": [
       "<IPython.core.display.HTML object>"
      ]
     },
     "metadata": {},
     "output_type": "display_data"
    },
    {
     "name": "stdout",
     "output_type": "stream",
     "text": [
      "Ultralytics 8.3.71 🚀 Python-3.11.11 torch-2.5.1+cu124 CUDA:0 (Tesla T4, 15095MiB)\n",
      "\u001b[34m\u001b[1mengine/trainer: \u001b[0mtask=detect, mode=train, model=yolov8x.pt, data=/content/Prototype-1.01-1/data.yaml, epochs=50, time=None, patience=100, batch=16, imgsz=640, save=True, save_period=-1, cache=False, device=0, workers=8, project=Prototype 1, name=p1_v1, exist_ok=False, pretrained=True, optimizer=auto, verbose=True, seed=42, deterministic=True, single_cls=False, rect=False, cos_lr=False, close_mosaic=10, resume=False, amp=True, fraction=1.0, profile=False, freeze=None, multi_scale=False, overlap_mask=True, mask_ratio=4, dropout=0.0, val=True, split=val, save_json=False, save_hybrid=False, conf=None, iou=0.7, max_det=300, half=False, dnn=False, plots=True, source=None, vid_stride=1, stream_buffer=False, visualize=False, augment=False, agnostic_nms=False, classes=None, retina_masks=False, embed=None, show=False, save_frames=False, save_txt=False, save_conf=False, save_crop=False, show_labels=True, show_conf=True, show_boxes=True, line_width=None, format=torchscript, keras=False, optimize=False, int8=False, dynamic=False, simplify=True, opset=None, workspace=None, nms=False, lr0=0.01, lrf=0.01, momentum=0.937, weight_decay=0.0005, warmup_epochs=3.0, warmup_momentum=0.8, warmup_bias_lr=0.1, box=7.5, cls=0.5, dfl=1.5, pose=12.0, kobj=1.0, nbs=64, hsv_h=0.015, hsv_s=0.7, hsv_v=0.4, degrees=0.0, translate=0.1, scale=0.5, shear=0.0, perspective=0.0, flipud=0.0, fliplr=0.5, bgr=0.0, mosaic=1.0, mixup=0.0, copy_paste=0.0, copy_paste_mode=flip, auto_augment=randaugment, erasing=0.4, crop_fraction=1.0, cfg=None, tracker=botsort.yaml, save_dir=Prototype 1/p1_v1\n",
      "Downloading https://ultralytics.com/assets/Arial.ttf to '/root/.config/Ultralytics/Arial.ttf'...\n"
     ]
    },
    {
     "name": "stderr",
     "output_type": "stream",
     "text": [
      "100%|██████████| 755k/755k [00:00<00:00, 75.8MB/s]\n"
     ]
    },
    {
     "name": "stdout",
     "output_type": "stream",
     "text": [
      "Overriding model.yaml nc=80 with nc=21\n",
      "\n",
      "                   from  n    params  module                                       arguments                     \n",
      "  0                  -1  1      2320  ultralytics.nn.modules.conv.Conv             [3, 80, 3, 2]                 \n",
      "  1                  -1  1    115520  ultralytics.nn.modules.conv.Conv             [80, 160, 3, 2]               \n",
      "  2                  -1  3    436800  ultralytics.nn.modules.block.C2f             [160, 160, 3, True]           \n",
      "  3                  -1  1    461440  ultralytics.nn.modules.conv.Conv             [160, 320, 3, 2]              \n",
      "  4                  -1  6   3281920  ultralytics.nn.modules.block.C2f             [320, 320, 6, True]           \n",
      "  5                  -1  1   1844480  ultralytics.nn.modules.conv.Conv             [320, 640, 3, 2]              \n",
      "  6                  -1  6  13117440  ultralytics.nn.modules.block.C2f             [640, 640, 6, True]           \n",
      "  7                  -1  1   3687680  ultralytics.nn.modules.conv.Conv             [640, 640, 3, 2]              \n",
      "  8                  -1  3   6969600  ultralytics.nn.modules.block.C2f             [640, 640, 3, True]           \n",
      "  9                  -1  1   1025920  ultralytics.nn.modules.block.SPPF            [640, 640, 5]                 \n",
      " 10                  -1  1         0  torch.nn.modules.upsampling.Upsample         [None, 2, 'nearest']          \n",
      " 11             [-1, 6]  1         0  ultralytics.nn.modules.conv.Concat           [1]                           \n",
      " 12                  -1  3   7379200  ultralytics.nn.modules.block.C2f             [1280, 640, 3]                \n",
      " 13                  -1  1         0  torch.nn.modules.upsampling.Upsample         [None, 2, 'nearest']          \n",
      " 14             [-1, 4]  1         0  ultralytics.nn.modules.conv.Concat           [1]                           \n",
      " 15                  -1  3   1948800  ultralytics.nn.modules.block.C2f             [960, 320, 3]                 \n",
      " 16                  -1  1    922240  ultralytics.nn.modules.conv.Conv             [320, 320, 3, 2]              \n",
      " 17            [-1, 12]  1         0  ultralytics.nn.modules.conv.Concat           [1]                           \n",
      " 18                  -1  3   7174400  ultralytics.nn.modules.block.C2f             [960, 640, 3]                 \n",
      " 19                  -1  1   3687680  ultralytics.nn.modules.conv.Conv             [640, 640, 3, 2]              \n",
      " 20             [-1, 9]  1         0  ultralytics.nn.modules.conv.Concat           [1]                           \n",
      " 21                  -1  3   7379200  ultralytics.nn.modules.block.C2f             [1280, 640, 3]                \n",
      " 22        [15, 18, 21]  1   8738191  ultralytics.nn.modules.head.Detect           [21, [320, 640, 640]]         \n",
      "Model summary: 365 layers, 68,172,831 parameters, 68,172,815 gradients, 258.2 GFLOPs\n",
      "\n",
      "Transferred 589/595 items from pretrained weights\n",
      "\u001b[34m\u001b[1mTensorBoard: \u001b[0mStart with 'tensorboard --logdir Prototype 1/p1_v1', view at http://localhost:6006/\n",
      "Freezing layer 'model.22.dfl.conv.weight'\n",
      "\u001b[34m\u001b[1mAMP: \u001b[0mrunning Automatic Mixed Precision (AMP) checks...\n",
      "Downloading https://github.com/ultralytics/assets/releases/download/v8.3.0/yolo11n.pt to 'yolo11n.pt'...\n"
     ]
    },
    {
     "name": "stderr",
     "output_type": "stream",
     "text": [
      "100%|██████████| 5.35M/5.35M [00:00<00:00, 262MB/s]\n"
     ]
    },
    {
     "name": "stdout",
     "output_type": "stream",
     "text": [
      "\u001b[34m\u001b[1mAMP: \u001b[0mchecks passed ✅\n"
     ]
    },
    {
     "name": "stderr",
     "output_type": "stream",
     "text": [
      "\u001b[34m\u001b[1mtrain: \u001b[0mScanning /content/Prototype-1.01-1/train/labels... 510 images, 0 backgrounds, 0 corrupt: 100%|██████████| 510/510 [00:00<00:00, 552.51it/s]"
     ]
    },
    {
     "name": "stdout",
     "output_type": "stream",
     "text": [
      "\u001b[34m\u001b[1mtrain: \u001b[0mNew cache created: /content/Prototype-1.01-1/train/labels.cache\n"
     ]
    },
    {
     "name": "stderr",
     "output_type": "stream",
     "text": [
      "\n"
     ]
    },
    {
     "name": "stdout",
     "output_type": "stream",
     "text": [
      "\u001b[34m\u001b[1malbumentations: \u001b[0mBlur(p=0.01, blur_limit=(3, 7)), MedianBlur(p=0.01, blur_limit=(3, 7)), ToGray(p=0.01, num_output_channels=3, method='weighted_average'), CLAHE(p=0.01, clip_limit=(1.0, 4.0), tile_grid_size=(8, 8))\n"
     ]
    },
    {
     "name": "stderr",
     "output_type": "stream",
     "text": [
      "A new version of Albumentations is available: 2.0.3 (you have 1.4.20). Upgrade using: pip install -U albumentations. To disable automatic update checks, set the environment variable NO_ALBUMENTATIONS_UPDATE to 1.\n",
      "\u001b[34m\u001b[1mval: \u001b[0mScanning /content/Prototype-1.01-1/valid/labels... 20 images, 0 backgrounds, 0 corrupt: 100%|██████████| 20/20 [00:00<00:00, 230.33it/s]"
     ]
    },
    {
     "name": "stdout",
     "output_type": "stream",
     "text": [
      "\u001b[34m\u001b[1mval: \u001b[0mNew cache created: /content/Prototype-1.01-1/valid/labels.cache\n"
     ]
    },
    {
     "name": "stderr",
     "output_type": "stream",
     "text": [
      "\n"
     ]
    },
    {
     "name": "stdout",
     "output_type": "stream",
     "text": [
      "Plotting labels to Prototype 1/p1_v1/labels.jpg... \n",
      "\u001b[34m\u001b[1moptimizer:\u001b[0m 'optimizer=auto' found, ignoring 'lr0=0.01' and 'momentum=0.937' and determining best 'optimizer', 'lr0' and 'momentum' automatically... \n",
      "\u001b[34m\u001b[1moptimizer:\u001b[0m AdamW(lr=0.0004, momentum=0.9) with parameter groups 97 weight(decay=0.0), 104 weight(decay=0.0005), 103 bias(decay=0.0)\n",
      "\u001b[34m\u001b[1mTensorBoard: \u001b[0mmodel graph visualization added ✅\n",
      "Image sizes 640 train, 640 val\n",
      "Using 2 dataloader workers\n",
      "Logging results to \u001b[1mPrototype 1/p1_v1\u001b[0m\n",
      "Starting training for 50 epochs...\n",
      "\n",
      "      Epoch    GPU_mem   box_loss   cls_loss   dfl_loss  Instances       Size\n"
     ]
    },
    {
     "name": "stderr",
     "output_type": "stream",
     "text": [
      "       1/50      13.2G      1.547      2.695      1.375        224        640: 100%|██████████| 32/32 [00:40<00:00,  1.25s/it]\n",
      "                 Class     Images  Instances      Box(P          R      mAP50  mAP50-95): 100%|██████████| 1/1 [00:02<00:00,  2.35s/it]"
     ]
    },
    {
     "name": "stdout",
     "output_type": "stream",
     "text": [
      "                   all         20        218      0.651      0.785      0.751      0.469\n",
      "Ultralytics 8.3.71 🚀 Python-3.11.11 torch-2.5.1+cu124 CUDA:0 (Tesla T4, 15095MiB)\n"
     ]
    },
    {
     "name": "stderr",
     "output_type": "stream",
     "text": [
      "\n"
     ]
    },
    {
     "name": "stdout",
     "output_type": "stream",
     "text": [
      "YOLOv8x summary (fused): 268 layers, 68,200,608 parameters, 0 gradients, 257.8 GFLOPs\n"
     ]
    },
    {
     "data": {
      "application/vnd.jupyter.widget-view+json": {
       "model_id": "580643c2ca824130a5a3e237ca898c8c",
       "version_major": 2,
       "version_minor": 0
      },
      "text/plain": [
       "Generating Visualizations for batch-1/1:   0%|          | 0/20 [00:00<?, ?it/s]"
      ]
     },
     "metadata": {},
     "output_type": "display_data"
    },
    {
     "data": {
      "application/vnd.jupyter.widget-view+json": {
       "model_id": "e9beb66a703a45de8ecd934ac8284f21",
       "version_major": 2,
       "version_minor": 0
      },
      "text/plain": [
       "Generating Visualizations for batch-1/1:   0%|          | 0/20 [00:00<?, ?it/s]"
      ]
     },
     "metadata": {},
     "output_type": "display_data"
    },
    {
     "name": "stdout",
     "output_type": "stream",
     "text": [
      "\n",
      "      Epoch    GPU_mem   box_loss   cls_loss   dfl_loss  Instances       Size\n"
     ]
    },
    {
     "name": "stderr",
     "output_type": "stream",
     "text": [
      "       2/50      13.8G      1.242      1.033      1.165        284        640: 100%|██████████| 32/32 [00:42<00:00,  1.32s/it]\n",
      "                 Class     Images  Instances      Box(P          R      mAP50  mAP50-95): 100%|██████████| 1/1 [00:00<00:00,  1.49it/s]"
     ]
    },
    {
     "name": "stdout",
     "output_type": "stream",
     "text": [
      "                   all         20        218      0.874      0.848      0.922      0.554\n"
     ]
    },
    {
     "name": "stderr",
     "output_type": "stream",
     "text": [
      "\n"
     ]
    },
    {
     "data": {
      "application/vnd.jupyter.widget-view+json": {
       "model_id": "4ff0a533d97641ba8d2706f199597ba4",
       "version_major": 2,
       "version_minor": 0
      },
      "text/plain": [
       "Generating Visualizations for batch-1/1:   0%|          | 0/20 [00:00<?, ?it/s]"
      ]
     },
     "metadata": {},
     "output_type": "display_data"
    },
    {
     "data": {
      "application/vnd.jupyter.widget-view+json": {
       "model_id": "24b98fdeca4a4507aaa8218412293368",
       "version_major": 2,
       "version_minor": 0
      },
      "text/plain": [
       "Generating Visualizations for batch-1/1:   0%|          | 0/20 [00:00<?, ?it/s]"
      ]
     },
     "metadata": {},
     "output_type": "display_data"
    },
    {
     "name": "stdout",
     "output_type": "stream",
     "text": [
      "\n",
      "      Epoch    GPU_mem   box_loss   cls_loss   dfl_loss  Instances       Size\n"
     ]
    },
    {
     "name": "stderr",
     "output_type": "stream",
     "text": [
      "       3/50      13.9G        1.2     0.8914      1.161        198        640: 100%|██████████| 32/32 [00:42<00:00,  1.32s/it]\n",
      "                 Class     Images  Instances      Box(P          R      mAP50  mAP50-95): 100%|██████████| 1/1 [00:00<00:00,  1.51it/s]"
     ]
    },
    {
     "name": "stdout",
     "output_type": "stream",
     "text": [
      "                   all         20        218      0.873      0.876      0.919      0.553\n"
     ]
    },
    {
     "name": "stderr",
     "output_type": "stream",
     "text": [
      "\n"
     ]
    },
    {
     "data": {
      "application/vnd.jupyter.widget-view+json": {
       "model_id": "6191b76c9c924aedb8f1a69479eddbdc",
       "version_major": 2,
       "version_minor": 0
      },
      "text/plain": [
       "Generating Visualizations for batch-1/1:   0%|          | 0/20 [00:00<?, ?it/s]"
      ]
     },
     "metadata": {},
     "output_type": "display_data"
    },
    {
     "data": {
      "application/vnd.jupyter.widget-view+json": {
       "model_id": "3a315a86eb56468cbf7fb2a6acbcb7a4",
       "version_major": 2,
       "version_minor": 0
      },
      "text/plain": [
       "Generating Visualizations for batch-1/1:   0%|          | 0/20 [00:00<?, ?it/s]"
      ]
     },
     "metadata": {},
     "output_type": "display_data"
    },
    {
     "name": "stdout",
     "output_type": "stream",
     "text": [
      "\n",
      "      Epoch    GPU_mem   box_loss   cls_loss   dfl_loss  Instances       Size\n"
     ]
    },
    {
     "name": "stderr",
     "output_type": "stream",
     "text": [
      "       4/50      13.4G      1.191     0.8183      1.148        244        640: 100%|██████████| 32/32 [00:41<00:00,  1.31s/it]\n",
      "                 Class     Images  Instances      Box(P          R      mAP50  mAP50-95): 100%|██████████| 1/1 [00:00<00:00,  1.49it/s]"
     ]
    },
    {
     "name": "stdout",
     "output_type": "stream",
     "text": [
      "                   all         20        218      0.854      0.891       0.92      0.542\n"
     ]
    },
    {
     "name": "stderr",
     "output_type": "stream",
     "text": [
      "\n"
     ]
    },
    {
     "data": {
      "application/vnd.jupyter.widget-view+json": {
       "model_id": "f6d3e4cefa4743c78fbe053e817663ec",
       "version_major": 2,
       "version_minor": 0
      },
      "text/plain": [
       "Generating Visualizations for batch-1/1:   0%|          | 0/20 [00:00<?, ?it/s]"
      ]
     },
     "metadata": {},
     "output_type": "display_data"
    },
    {
     "data": {
      "application/vnd.jupyter.widget-view+json": {
       "model_id": "167793f755a947b28fb3698cf6f8b54c",
       "version_major": 2,
       "version_minor": 0
      },
      "text/plain": [
       "Generating Visualizations for batch-1/1:   0%|          | 0/20 [00:00<?, ?it/s]"
      ]
     },
     "metadata": {},
     "output_type": "display_data"
    },
    {
     "name": "stdout",
     "output_type": "stream",
     "text": [
      "\n",
      "      Epoch    GPU_mem   box_loss   cls_loss   dfl_loss  Instances       Size\n"
     ]
    },
    {
     "name": "stderr",
     "output_type": "stream",
     "text": [
      "       5/50      13.4G       1.12     0.7229      1.119        209        640: 100%|██████████| 32/32 [00:41<00:00,  1.31s/it]\n",
      "                 Class     Images  Instances      Box(P          R      mAP50  mAP50-95): 100%|██████████| 1/1 [00:00<00:00,  1.57it/s]"
     ]
    },
    {
     "name": "stdout",
     "output_type": "stream",
     "text": [
      "                   all         20        218      0.878      0.901      0.927      0.567\n"
     ]
    },
    {
     "name": "stderr",
     "output_type": "stream",
     "text": [
      "\n"
     ]
    },
    {
     "data": {
      "application/vnd.jupyter.widget-view+json": {
       "model_id": "27f5be854493423a83e80df8bd355c50",
       "version_major": 2,
       "version_minor": 0
      },
      "text/plain": [
       "Generating Visualizations for batch-1/1:   0%|          | 0/20 [00:00<?, ?it/s]"
      ]
     },
     "metadata": {},
     "output_type": "display_data"
    },
    {
     "data": {
      "application/vnd.jupyter.widget-view+json": {
       "model_id": "50874cfcfeff465aabb42d64ed9de6dc",
       "version_major": 2,
       "version_minor": 0
      },
      "text/plain": [
       "Generating Visualizations for batch-1/1:   0%|          | 0/20 [00:00<?, ?it/s]"
      ]
     },
     "metadata": {},
     "output_type": "display_data"
    },
    {
     "name": "stdout",
     "output_type": "stream",
     "text": [
      "\n",
      "      Epoch    GPU_mem   box_loss   cls_loss   dfl_loss  Instances       Size\n"
     ]
    },
    {
     "name": "stderr",
     "output_type": "stream",
     "text": [
      "       6/50      13.4G      1.114     0.6937      1.117        228        640: 100%|██████████| 32/32 [00:42<00:00,  1.32s/it]\n",
      "                 Class     Images  Instances      Box(P          R      mAP50  mAP50-95): 100%|██████████| 1/1 [00:00<00:00,  1.44it/s]"
     ]
    },
    {
     "name": "stdout",
     "output_type": "stream",
     "text": [
      "                   all         20        218      0.888      0.906      0.927      0.567\n"
     ]
    },
    {
     "name": "stderr",
     "output_type": "stream",
     "text": [
      "\n"
     ]
    },
    {
     "data": {
      "application/vnd.jupyter.widget-view+json": {
       "model_id": "130bcf33757240aa98be2ca9cd8b2ec3",
       "version_major": 2,
       "version_minor": 0
      },
      "text/plain": [
       "Generating Visualizations for batch-1/1:   0%|          | 0/20 [00:00<?, ?it/s]"
      ]
     },
     "metadata": {},
     "output_type": "display_data"
    },
    {
     "data": {
      "application/vnd.jupyter.widget-view+json": {
       "model_id": "420447e9a02f42078ef2bb8bd1e394e4",
       "version_major": 2,
       "version_minor": 0
      },
      "text/plain": [
       "Generating Visualizations for batch-1/1:   0%|          | 0/20 [00:00<?, ?it/s]"
      ]
     },
     "metadata": {},
     "output_type": "display_data"
    },
    {
     "name": "stdout",
     "output_type": "stream",
     "text": [
      "\n",
      "      Epoch    GPU_mem   box_loss   cls_loss   dfl_loss  Instances       Size\n"
     ]
    },
    {
     "name": "stderr",
     "output_type": "stream",
     "text": [
      "       7/50      13.3G      1.116     0.6605      1.115        193        640: 100%|██████████| 32/32 [00:41<00:00,  1.30s/it]\n",
      "                 Class     Images  Instances      Box(P          R      mAP50  mAP50-95): 100%|██████████| 1/1 [00:00<00:00,  1.53it/s]"
     ]
    },
    {
     "name": "stdout",
     "output_type": "stream",
     "text": [
      "                   all         20        218      0.936      0.903      0.937      0.576\n"
     ]
    },
    {
     "name": "stderr",
     "output_type": "stream",
     "text": [
      "\n"
     ]
    },
    {
     "data": {
      "application/vnd.jupyter.widget-view+json": {
       "model_id": "3ae106640a88478692e28128fa588693",
       "version_major": 2,
       "version_minor": 0
      },
      "text/plain": [
       "Generating Visualizations for batch-1/1:   0%|          | 0/20 [00:00<?, ?it/s]"
      ]
     },
     "metadata": {},
     "output_type": "display_data"
    },
    {
     "data": {
      "application/vnd.jupyter.widget-view+json": {
       "model_id": "da7579bf7ae44c2ca6bdeab3ba49fdf6",
       "version_major": 2,
       "version_minor": 0
      },
      "text/plain": [
       "Generating Visualizations for batch-1/1:   0%|          | 0/20 [00:00<?, ?it/s]"
      ]
     },
     "metadata": {},
     "output_type": "display_data"
    },
    {
     "name": "stdout",
     "output_type": "stream",
     "text": [
      "\n",
      "      Epoch    GPU_mem   box_loss   cls_loss   dfl_loss  Instances       Size\n"
     ]
    },
    {
     "name": "stderr",
     "output_type": "stream",
     "text": [
      "       8/50      13.4G      1.103     0.6258      1.117        194        640: 100%|██████████| 32/32 [00:43<00:00,  1.36s/it]\n",
      "                 Class     Images  Instances      Box(P          R      mAP50  mAP50-95): 100%|██████████| 1/1 [00:00<00:00,  1.54it/s]"
     ]
    },
    {
     "name": "stdout",
     "output_type": "stream",
     "text": [
      "                   all         20        218      0.929      0.925      0.942      0.595\n"
     ]
    },
    {
     "name": "stderr",
     "output_type": "stream",
     "text": [
      "\n"
     ]
    },
    {
     "data": {
      "application/vnd.jupyter.widget-view+json": {
       "model_id": "22ac0afeb0d3401696471b995c5b1614",
       "version_major": 2,
       "version_minor": 0
      },
      "text/plain": [
       "Generating Visualizations for batch-1/1:   0%|          | 0/20 [00:00<?, ?it/s]"
      ]
     },
     "metadata": {},
     "output_type": "display_data"
    },
    {
     "data": {
      "application/vnd.jupyter.widget-view+json": {
       "model_id": "4e0a91d92be44fc9b2a2b126ff25a9fd",
       "version_major": 2,
       "version_minor": 0
      },
      "text/plain": [
       "Generating Visualizations for batch-1/1:   0%|          | 0/20 [00:00<?, ?it/s]"
      ]
     },
     "metadata": {},
     "output_type": "display_data"
    },
    {
     "name": "stdout",
     "output_type": "stream",
     "text": [
      "\n",
      "      Epoch    GPU_mem   box_loss   cls_loss   dfl_loss  Instances       Size\n"
     ]
    },
    {
     "name": "stderr",
     "output_type": "stream",
     "text": [
      "       9/50      13.4G      1.047     0.5918      1.085        215        640: 100%|██████████| 32/32 [00:42<00:00,  1.33s/it]\n",
      "                 Class     Images  Instances      Box(P          R      mAP50  mAP50-95): 100%|██████████| 1/1 [00:00<00:00,  1.46it/s]"
     ]
    },
    {
     "name": "stdout",
     "output_type": "stream",
     "text": [
      "                   all         20        218      0.918      0.935      0.945      0.589\n"
     ]
    },
    {
     "name": "stderr",
     "output_type": "stream",
     "text": [
      "\n"
     ]
    },
    {
     "data": {
      "application/vnd.jupyter.widget-view+json": {
       "model_id": "597e1972e0ce489e8b874b95b1987022",
       "version_major": 2,
       "version_minor": 0
      },
      "text/plain": [
       "Generating Visualizations for batch-1/1:   0%|          | 0/20 [00:00<?, ?it/s]"
      ]
     },
     "metadata": {},
     "output_type": "display_data"
    },
    {
     "data": {
      "application/vnd.jupyter.widget-view+json": {
       "model_id": "72450fe176b64f8e993b45ab440d5cfa",
       "version_major": 2,
       "version_minor": 0
      },
      "text/plain": [
       "Generating Visualizations for batch-1/1:   0%|          | 0/20 [00:00<?, ?it/s]"
      ]
     },
     "metadata": {},
     "output_type": "display_data"
    },
    {
     "name": "stdout",
     "output_type": "stream",
     "text": [
      "\n",
      "      Epoch    GPU_mem   box_loss   cls_loss   dfl_loss  Instances       Size\n"
     ]
    },
    {
     "name": "stderr",
     "output_type": "stream",
     "text": [
      "      10/50      13.4G      1.041     0.5759      1.081        238        640: 100%|██████████| 32/32 [00:42<00:00,  1.31s/it]\n",
      "                 Class     Images  Instances      Box(P          R      mAP50  mAP50-95): 100%|██████████| 1/1 [00:00<00:00,  1.41it/s]"
     ]
    },
    {
     "name": "stdout",
     "output_type": "stream",
     "text": [
      "                   all         20        218      0.916      0.911      0.934      0.582\n"
     ]
    },
    {
     "name": "stderr",
     "output_type": "stream",
     "text": [
      "\n"
     ]
    },
    {
     "data": {
      "application/vnd.jupyter.widget-view+json": {
       "model_id": "c08de96f75a74bfba36b8209f8109792",
       "version_major": 2,
       "version_minor": 0
      },
      "text/plain": [
       "Generating Visualizations for batch-1/1:   0%|          | 0/20 [00:00<?, ?it/s]"
      ]
     },
     "metadata": {},
     "output_type": "display_data"
    },
    {
     "data": {
      "application/vnd.jupyter.widget-view+json": {
       "model_id": "d35a6c78898b4466ae6f7cc4fada0f1d",
       "version_major": 2,
       "version_minor": 0
      },
      "text/plain": [
       "Generating Visualizations for batch-1/1:   0%|          | 0/20 [00:00<?, ?it/s]"
      ]
     },
     "metadata": {},
     "output_type": "display_data"
    },
    {
     "name": "stdout",
     "output_type": "stream",
     "text": [
      "\n",
      "      Epoch    GPU_mem   box_loss   cls_loss   dfl_loss  Instances       Size\n"
     ]
    },
    {
     "name": "stderr",
     "output_type": "stream",
     "text": [
      "      11/50      13.4G      1.002     0.5501      1.071        140        640: 100%|██████████| 32/32 [00:42<00:00,  1.33s/it]\n",
      "                 Class     Images  Instances      Box(P          R      mAP50  mAP50-95): 100%|██████████| 1/1 [00:00<00:00,  1.48it/s]"
     ]
    },
    {
     "name": "stdout",
     "output_type": "stream",
     "text": [
      "                   all         20        218       0.94      0.909      0.941      0.606\n"
     ]
    },
    {
     "name": "stderr",
     "output_type": "stream",
     "text": [
      "\n"
     ]
    },
    {
     "data": {
      "application/vnd.jupyter.widget-view+json": {
       "model_id": "921ca549c2404de0a8c273f2f48dfa09",
       "version_major": 2,
       "version_minor": 0
      },
      "text/plain": [
       "Generating Visualizations for batch-1/1:   0%|          | 0/20 [00:00<?, ?it/s]"
      ]
     },
     "metadata": {},
     "output_type": "display_data"
    },
    {
     "data": {
      "application/vnd.jupyter.widget-view+json": {
       "model_id": "5bbffe2254f143b289254af1eedccbfb",
       "version_major": 2,
       "version_minor": 0
      },
      "text/plain": [
       "Generating Visualizations for batch-1/1:   0%|          | 0/20 [00:00<?, ?it/s]"
      ]
     },
     "metadata": {},
     "output_type": "display_data"
    },
    {
     "name": "stdout",
     "output_type": "stream",
     "text": [
      "\n",
      "      Epoch    GPU_mem   box_loss   cls_loss   dfl_loss  Instances       Size\n"
     ]
    },
    {
     "name": "stderr",
     "output_type": "stream",
     "text": [
      "      12/50      13.4G     0.9844     0.5373      1.063        256        640: 100%|██████████| 32/32 [00:41<00:00,  1.31s/it]\n",
      "                 Class     Images  Instances      Box(P          R      mAP50  mAP50-95): 100%|██████████| 1/1 [00:00<00:00,  1.48it/s]"
     ]
    },
    {
     "name": "stdout",
     "output_type": "stream",
     "text": [
      "                   all         20        218      0.932      0.927      0.944      0.603\n"
     ]
    },
    {
     "name": "stderr",
     "output_type": "stream",
     "text": [
      "\n"
     ]
    },
    {
     "data": {
      "application/vnd.jupyter.widget-view+json": {
       "model_id": "9c731d3fbdc34d669ba6cb01086c4524",
       "version_major": 2,
       "version_minor": 0
      },
      "text/plain": [
       "Generating Visualizations for batch-1/1:   0%|          | 0/20 [00:00<?, ?it/s]"
      ]
     },
     "metadata": {},
     "output_type": "display_data"
    },
    {
     "data": {
      "application/vnd.jupyter.widget-view+json": {
       "model_id": "c0ba8e662ef74bebb47f8a97b6a2a631",
       "version_major": 2,
       "version_minor": 0
      },
      "text/plain": [
       "Generating Visualizations for batch-1/1:   0%|          | 0/20 [00:00<?, ?it/s]"
      ]
     },
     "metadata": {},
     "output_type": "display_data"
    },
    {
     "name": "stdout",
     "output_type": "stream",
     "text": [
      "\n",
      "      Epoch    GPU_mem   box_loss   cls_loss   dfl_loss  Instances       Size\n"
     ]
    },
    {
     "name": "stderr",
     "output_type": "stream",
     "text": [
      "      13/50      13.4G     0.9515     0.5144      1.053        189        640: 100%|██████████| 32/32 [00:42<00:00,  1.31s/it]\n",
      "                 Class     Images  Instances      Box(P          R      mAP50  mAP50-95): 100%|██████████| 1/1 [00:00<00:00,  1.45it/s]"
     ]
    },
    {
     "name": "stdout",
     "output_type": "stream",
     "text": [
      "                   all         20        218      0.942      0.927      0.942       0.62\n"
     ]
    },
    {
     "name": "stderr",
     "output_type": "stream",
     "text": [
      "\n"
     ]
    },
    {
     "data": {
      "application/vnd.jupyter.widget-view+json": {
       "model_id": "bf3d64b6f30d4bfbb29f849ad84b1d75",
       "version_major": 2,
       "version_minor": 0
      },
      "text/plain": [
       "Generating Visualizations for batch-1/1:   0%|          | 0/20 [00:00<?, ?it/s]"
      ]
     },
     "metadata": {},
     "output_type": "display_data"
    },
    {
     "data": {
      "application/vnd.jupyter.widget-view+json": {
       "model_id": "582112e9625a43ee99837a19a66af792",
       "version_major": 2,
       "version_minor": 0
      },
      "text/plain": [
       "Generating Visualizations for batch-1/1:   0%|          | 0/20 [00:00<?, ?it/s]"
      ]
     },
     "metadata": {},
     "output_type": "display_data"
    },
    {
     "name": "stdout",
     "output_type": "stream",
     "text": [
      "\n",
      "      Epoch    GPU_mem   box_loss   cls_loss   dfl_loss  Instances       Size\n"
     ]
    },
    {
     "name": "stderr",
     "output_type": "stream",
     "text": [
      "      14/50      13.3G     0.9426     0.5054      1.039        214        640: 100%|██████████| 32/32 [00:41<00:00,  1.30s/it]\n",
      "                 Class     Images  Instances      Box(P          R      mAP50  mAP50-95): 100%|██████████| 1/1 [00:00<00:00,  1.52it/s]"
     ]
    },
    {
     "name": "stdout",
     "output_type": "stream",
     "text": [
      "                   all         20        218      0.944      0.908      0.935      0.574\n"
     ]
    },
    {
     "name": "stderr",
     "output_type": "stream",
     "text": [
      "\n"
     ]
    },
    {
     "data": {
      "application/vnd.jupyter.widget-view+json": {
       "model_id": "473518b168324e23a9457fa1be7e5cba",
       "version_major": 2,
       "version_minor": 0
      },
      "text/plain": [
       "Generating Visualizations for batch-1/1:   0%|          | 0/20 [00:00<?, ?it/s]"
      ]
     },
     "metadata": {},
     "output_type": "display_data"
    },
    {
     "data": {
      "application/vnd.jupyter.widget-view+json": {
       "model_id": "16c2ddf387144068b3443702d48a0467",
       "version_major": 2,
       "version_minor": 0
      },
      "text/plain": [
       "Generating Visualizations for batch-1/1:   0%|          | 0/20 [00:00<?, ?it/s]"
      ]
     },
     "metadata": {},
     "output_type": "display_data"
    },
    {
     "name": "stdout",
     "output_type": "stream",
     "text": [
      "\n",
      "      Epoch    GPU_mem   box_loss   cls_loss   dfl_loss  Instances       Size\n"
     ]
    },
    {
     "name": "stderr",
     "output_type": "stream",
     "text": [
      "      15/50      13.4G     0.9319     0.5003      1.036        157        640: 100%|██████████| 32/32 [00:42<00:00,  1.31s/it]\n",
      "                 Class     Images  Instances      Box(P          R      mAP50  mAP50-95): 100%|██████████| 1/1 [00:00<00:00,  1.44it/s]"
     ]
    },
    {
     "name": "stdout",
     "output_type": "stream",
     "text": [
      "                   all         20        218      0.954      0.887      0.924      0.587\n"
     ]
    },
    {
     "name": "stderr",
     "output_type": "stream",
     "text": [
      "\n"
     ]
    },
    {
     "data": {
      "application/vnd.jupyter.widget-view+json": {
       "model_id": "3ab8fb52024f49a99c0ef92fe10f8b28",
       "version_major": 2,
       "version_minor": 0
      },
      "text/plain": [
       "Generating Visualizations for batch-1/1:   0%|          | 0/20 [00:00<?, ?it/s]"
      ]
     },
     "metadata": {},
     "output_type": "display_data"
    },
    {
     "data": {
      "application/vnd.jupyter.widget-view+json": {
       "model_id": "0ec47a95f6e04cce885bd173603c3f92",
       "version_major": 2,
       "version_minor": 0
      },
      "text/plain": [
       "Generating Visualizations for batch-1/1:   0%|          | 0/20 [00:00<?, ?it/s]"
      ]
     },
     "metadata": {},
     "output_type": "display_data"
    },
    {
     "name": "stdout",
     "output_type": "stream",
     "text": [
      "\n",
      "      Epoch    GPU_mem   box_loss   cls_loss   dfl_loss  Instances       Size\n"
     ]
    },
    {
     "name": "stderr",
     "output_type": "stream",
     "text": [
      "      16/50      13.4G     0.9162     0.4876      1.031        236        640: 100%|██████████| 32/32 [00:41<00:00,  1.30s/it]\n",
      "                 Class     Images  Instances      Box(P          R      mAP50  mAP50-95): 100%|██████████| 1/1 [00:00<00:00,  1.54it/s]"
     ]
    },
    {
     "name": "stdout",
     "output_type": "stream",
     "text": [
      "                   all         20        218      0.923      0.918      0.931      0.583\n"
     ]
    },
    {
     "name": "stderr",
     "output_type": "stream",
     "text": [
      "\n"
     ]
    },
    {
     "data": {
      "application/vnd.jupyter.widget-view+json": {
       "model_id": "a37ababbf22543c6a9bf977571871879",
       "version_major": 2,
       "version_minor": 0
      },
      "text/plain": [
       "Generating Visualizations for batch-1/1:   0%|          | 0/20 [00:00<?, ?it/s]"
      ]
     },
     "metadata": {},
     "output_type": "display_data"
    },
    {
     "data": {
      "application/vnd.jupyter.widget-view+json": {
       "model_id": "b0d5ad630c924a8bae1cd6c0f491f166",
       "version_major": 2,
       "version_minor": 0
      },
      "text/plain": [
       "Generating Visualizations for batch-1/1:   0%|          | 0/20 [00:00<?, ?it/s]"
      ]
     },
     "metadata": {},
     "output_type": "display_data"
    },
    {
     "name": "stdout",
     "output_type": "stream",
     "text": [
      "\n",
      "      Epoch    GPU_mem   box_loss   cls_loss   dfl_loss  Instances       Size\n"
     ]
    },
    {
     "name": "stderr",
     "output_type": "stream",
     "text": [
      "      17/50      13.3G     0.9014     0.4849      1.028        225        640: 100%|██████████| 32/32 [00:41<00:00,  1.31s/it]\n",
      "                 Class     Images  Instances      Box(P          R      mAP50  mAP50-95): 100%|██████████| 1/1 [00:00<00:00,  1.41it/s]"
     ]
    },
    {
     "name": "stdout",
     "output_type": "stream",
     "text": [
      "                   all         20        218      0.932      0.938      0.941      0.598\n"
     ]
    },
    {
     "name": "stderr",
     "output_type": "stream",
     "text": [
      "\n"
     ]
    },
    {
     "data": {
      "application/vnd.jupyter.widget-view+json": {
       "model_id": "cf5e58baf884475892a0cf72c12c33f3",
       "version_major": 2,
       "version_minor": 0
      },
      "text/plain": [
       "Generating Visualizations for batch-1/1:   0%|          | 0/20 [00:00<?, ?it/s]"
      ]
     },
     "metadata": {},
     "output_type": "display_data"
    },
    {
     "data": {
      "application/vnd.jupyter.widget-view+json": {
       "model_id": "44f1e970c2744ebb887c8f05c93fb744",
       "version_major": 2,
       "version_minor": 0
      },
      "text/plain": [
       "Generating Visualizations for batch-1/1:   0%|          | 0/20 [00:00<?, ?it/s]"
      ]
     },
     "metadata": {},
     "output_type": "display_data"
    },
    {
     "name": "stdout",
     "output_type": "stream",
     "text": [
      "\n",
      "      Epoch    GPU_mem   box_loss   cls_loss   dfl_loss  Instances       Size\n"
     ]
    },
    {
     "name": "stderr",
     "output_type": "stream",
     "text": [
      "      18/50      13.4G     0.8932     0.4652      1.006        252        640: 100%|██████████| 32/32 [00:41<00:00,  1.31s/it]\n",
      "                 Class     Images  Instances      Box(P          R      mAP50  mAP50-95): 100%|██████████| 1/1 [00:00<00:00,  1.40it/s]"
     ]
    },
    {
     "name": "stdout",
     "output_type": "stream",
     "text": [
      "                   all         20        218       0.96      0.916      0.949      0.591\n"
     ]
    },
    {
     "name": "stderr",
     "output_type": "stream",
     "text": [
      "\n"
     ]
    },
    {
     "data": {
      "application/vnd.jupyter.widget-view+json": {
       "model_id": "85472a10ab694d588633e6a208b46e63",
       "version_major": 2,
       "version_minor": 0
      },
      "text/plain": [
       "Generating Visualizations for batch-1/1:   0%|          | 0/20 [00:00<?, ?it/s]"
      ]
     },
     "metadata": {},
     "output_type": "display_data"
    },
    {
     "data": {
      "application/vnd.jupyter.widget-view+json": {
       "model_id": "2c1b761758b84d0f9299911d8c1d6541",
       "version_major": 2,
       "version_minor": 0
      },
      "text/plain": [
       "Generating Visualizations for batch-1/1:   0%|          | 0/20 [00:00<?, ?it/s]"
      ]
     },
     "metadata": {},
     "output_type": "display_data"
    },
    {
     "name": "stdout",
     "output_type": "stream",
     "text": [
      "\n",
      "      Epoch    GPU_mem   box_loss   cls_loss   dfl_loss  Instances       Size\n"
     ]
    },
    {
     "name": "stderr",
     "output_type": "stream",
     "text": [
      "      19/50      13.4G     0.8695     0.4553     0.9962        253        640: 100%|██████████| 32/32 [00:41<00:00,  1.30s/it]\n",
      "                 Class     Images  Instances      Box(P          R      mAP50  mAP50-95): 100%|██████████| 1/1 [00:00<00:00,  1.44it/s]"
     ]
    },
    {
     "name": "stdout",
     "output_type": "stream",
     "text": [
      "                   all         20        218      0.954      0.913      0.943       0.59\n"
     ]
    },
    {
     "name": "stderr",
     "output_type": "stream",
     "text": [
      "\n"
     ]
    },
    {
     "data": {
      "application/vnd.jupyter.widget-view+json": {
       "model_id": "ce4ac2db4b034f809667a72079cd1eec",
       "version_major": 2,
       "version_minor": 0
      },
      "text/plain": [
       "Generating Visualizations for batch-1/1:   0%|          | 0/20 [00:00<?, ?it/s]"
      ]
     },
     "metadata": {},
     "output_type": "display_data"
    },
    {
     "data": {
      "application/vnd.jupyter.widget-view+json": {
       "model_id": "f51676ed58034e19b91651f2445dd571",
       "version_major": 2,
       "version_minor": 0
      },
      "text/plain": [
       "Generating Visualizations for batch-1/1:   0%|          | 0/20 [00:00<?, ?it/s]"
      ]
     },
     "metadata": {},
     "output_type": "display_data"
    },
    {
     "name": "stdout",
     "output_type": "stream",
     "text": [
      "\n",
      "      Epoch    GPU_mem   box_loss   cls_loss   dfl_loss  Instances       Size\n"
     ]
    },
    {
     "name": "stderr",
     "output_type": "stream",
     "text": [
      "      20/50      13.4G     0.8325     0.4312     0.9903        223        640: 100%|██████████| 32/32 [00:42<00:00,  1.31s/it]\n",
      "                 Class     Images  Instances      Box(P          R      mAP50  mAP50-95): 100%|██████████| 1/1 [00:00<00:00,  1.44it/s]"
     ]
    },
    {
     "name": "stdout",
     "output_type": "stream",
     "text": [
      "                   all         20        218      0.955      0.925      0.939      0.585\n"
     ]
    },
    {
     "name": "stderr",
     "output_type": "stream",
     "text": [
      "\n"
     ]
    },
    {
     "data": {
      "application/vnd.jupyter.widget-view+json": {
       "model_id": "3b9406dbe04a41fd9c6d99ea8c6ca210",
       "version_major": 2,
       "version_minor": 0
      },
      "text/plain": [
       "Generating Visualizations for batch-1/1:   0%|          | 0/20 [00:00<?, ?it/s]"
      ]
     },
     "metadata": {},
     "output_type": "display_data"
    },
    {
     "data": {
      "application/vnd.jupyter.widget-view+json": {
       "model_id": "2014d9cce9884167947ba034fd5235f2",
       "version_major": 2,
       "version_minor": 0
      },
      "text/plain": [
       "Generating Visualizations for batch-1/1:   0%|          | 0/20 [00:00<?, ?it/s]"
      ]
     },
     "metadata": {},
     "output_type": "display_data"
    },
    {
     "name": "stdout",
     "output_type": "stream",
     "text": [
      "\n",
      "      Epoch    GPU_mem   box_loss   cls_loss   dfl_loss  Instances       Size\n"
     ]
    },
    {
     "name": "stderr",
     "output_type": "stream",
     "text": [
      "      21/50      13.4G     0.8321     0.4422      0.996        253        640: 100%|██████████| 32/32 [00:41<00:00,  1.30s/it]\n",
      "                 Class     Images  Instances      Box(P          R      mAP50  mAP50-95): 100%|██████████| 1/1 [00:00<00:00,  1.53it/s]"
     ]
    },
    {
     "name": "stdout",
     "output_type": "stream",
     "text": [
      "                   all         20        218      0.926      0.917      0.938       0.58\n"
     ]
    },
    {
     "name": "stderr",
     "output_type": "stream",
     "text": [
      "\n"
     ]
    },
    {
     "data": {
      "application/vnd.jupyter.widget-view+json": {
       "model_id": "5cfaa65c4b3e420bba5beed061d043a9",
       "version_major": 2,
       "version_minor": 0
      },
      "text/plain": [
       "Generating Visualizations for batch-1/1:   0%|          | 0/20 [00:00<?, ?it/s]"
      ]
     },
     "metadata": {},
     "output_type": "display_data"
    },
    {
     "data": {
      "application/vnd.jupyter.widget-view+json": {
       "model_id": "5d37243c5e2c4911a0d1ff6869bfa1e8",
       "version_major": 2,
       "version_minor": 0
      },
      "text/plain": [
       "Generating Visualizations for batch-1/1:   0%|          | 0/20 [00:00<?, ?it/s]"
      ]
     },
     "metadata": {},
     "output_type": "display_data"
    },
    {
     "name": "stdout",
     "output_type": "stream",
     "text": [
      "\n",
      "      Epoch    GPU_mem   box_loss   cls_loss   dfl_loss  Instances       Size\n"
     ]
    },
    {
     "name": "stderr",
     "output_type": "stream",
     "text": [
      "      22/50      13.4G     0.8194     0.4241     0.9889        140        640: 100%|██████████| 32/32 [00:41<00:00,  1.31s/it]\n",
      "                 Class     Images  Instances      Box(P          R      mAP50  mAP50-95): 100%|██████████| 1/1 [00:00<00:00,  1.53it/s]"
     ]
    },
    {
     "name": "stdout",
     "output_type": "stream",
     "text": [
      "                   all         20        218      0.917        0.9      0.924      0.588\n"
     ]
    },
    {
     "name": "stderr",
     "output_type": "stream",
     "text": [
      "\n"
     ]
    },
    {
     "data": {
      "application/vnd.jupyter.widget-view+json": {
       "model_id": "69714a05fdfe428e917fd1b287e5539d",
       "version_major": 2,
       "version_minor": 0
      },
      "text/plain": [
       "Generating Visualizations for batch-1/1:   0%|          | 0/20 [00:00<?, ?it/s]"
      ]
     },
     "metadata": {},
     "output_type": "display_data"
    },
    {
     "data": {
      "application/vnd.jupyter.widget-view+json": {
       "model_id": "4624461d061b49adb55ef89cbc9a9713",
       "version_major": 2,
       "version_minor": 0
      },
      "text/plain": [
       "Generating Visualizations for batch-1/1:   0%|          | 0/20 [00:00<?, ?it/s]"
      ]
     },
     "metadata": {},
     "output_type": "display_data"
    },
    {
     "name": "stdout",
     "output_type": "stream",
     "text": [
      "\n",
      "      Epoch    GPU_mem   box_loss   cls_loss   dfl_loss  Instances       Size\n"
     ]
    },
    {
     "name": "stderr",
     "output_type": "stream",
     "text": [
      "      23/50      13.4G     0.8077     0.4123     0.9751        225        640: 100%|██████████| 32/32 [00:42<00:00,  1.33s/it]\n",
      "                 Class     Images  Instances      Box(P          R      mAP50  mAP50-95): 100%|██████████| 1/1 [00:00<00:00,  1.53it/s]"
     ]
    },
    {
     "name": "stdout",
     "output_type": "stream",
     "text": [
      "                   all         20        218       0.96      0.927      0.958      0.611\n"
     ]
    },
    {
     "name": "stderr",
     "output_type": "stream",
     "text": [
      "\n"
     ]
    },
    {
     "data": {
      "application/vnd.jupyter.widget-view+json": {
       "model_id": "4d91122a531c4fb88df5a8fdaa8738b3",
       "version_major": 2,
       "version_minor": 0
      },
      "text/plain": [
       "Generating Visualizations for batch-1/1:   0%|          | 0/20 [00:00<?, ?it/s]"
      ]
     },
     "metadata": {},
     "output_type": "display_data"
    },
    {
     "data": {
      "application/vnd.jupyter.widget-view+json": {
       "model_id": "6f6663ac18034865a6334bc6c1f113e3",
       "version_major": 2,
       "version_minor": 0
      },
      "text/plain": [
       "Generating Visualizations for batch-1/1:   0%|          | 0/20 [00:00<?, ?it/s]"
      ]
     },
     "metadata": {},
     "output_type": "display_data"
    },
    {
     "name": "stdout",
     "output_type": "stream",
     "text": [
      "\n",
      "      Epoch    GPU_mem   box_loss   cls_loss   dfl_loss  Instances       Size\n"
     ]
    },
    {
     "name": "stderr",
     "output_type": "stream",
     "text": [
      "      24/50      13.4G     0.7947     0.4139      0.967        253        640: 100%|██████████| 32/32 [00:42<00:00,  1.32s/it]\n",
      "                 Class     Images  Instances      Box(P          R      mAP50  mAP50-95): 100%|██████████| 1/1 [00:00<00:00,  1.46it/s]"
     ]
    },
    {
     "name": "stdout",
     "output_type": "stream",
     "text": [
      "                   all         20        218       0.95      0.926      0.952       0.61\n"
     ]
    },
    {
     "name": "stderr",
     "output_type": "stream",
     "text": [
      "\n"
     ]
    },
    {
     "data": {
      "application/vnd.jupyter.widget-view+json": {
       "model_id": "68d39c816d2242129f5ca1b6095df77e",
       "version_major": 2,
       "version_minor": 0
      },
      "text/plain": [
       "Generating Visualizations for batch-1/1:   0%|          | 0/20 [00:00<?, ?it/s]"
      ]
     },
     "metadata": {},
     "output_type": "display_data"
    },
    {
     "data": {
      "application/vnd.jupyter.widget-view+json": {
       "model_id": "b43f8298643e48cdb9e0a39a713a0382",
       "version_major": 2,
       "version_minor": 0
      },
      "text/plain": [
       "Generating Visualizations for batch-1/1:   0%|          | 0/20 [00:00<?, ?it/s]"
      ]
     },
     "metadata": {},
     "output_type": "display_data"
    },
    {
     "name": "stdout",
     "output_type": "stream",
     "text": [
      "\n",
      "      Epoch    GPU_mem   box_loss   cls_loss   dfl_loss  Instances       Size\n"
     ]
    },
    {
     "name": "stderr",
     "output_type": "stream",
     "text": [
      "      25/50      13.4G     0.7846     0.4027     0.9658        188        640: 100%|██████████| 32/32 [00:41<00:00,  1.30s/it]\n",
      "                 Class     Images  Instances      Box(P          R      mAP50  mAP50-95): 100%|██████████| 1/1 [00:00<00:00,  1.42it/s]"
     ]
    },
    {
     "name": "stdout",
     "output_type": "stream",
     "text": [
      "                   all         20        218      0.969      0.932       0.96      0.612\n"
     ]
    },
    {
     "name": "stderr",
     "output_type": "stream",
     "text": [
      "\n"
     ]
    },
    {
     "data": {
      "application/vnd.jupyter.widget-view+json": {
       "model_id": "8cf444f5d442483ab9f3850b00515eb6",
       "version_major": 2,
       "version_minor": 0
      },
      "text/plain": [
       "Generating Visualizations for batch-1/1:   0%|          | 0/20 [00:00<?, ?it/s]"
      ]
     },
     "metadata": {},
     "output_type": "display_data"
    },
    {
     "data": {
      "application/vnd.jupyter.widget-view+json": {
       "model_id": "a280cabad16d4eedab6b7fe72606d38a",
       "version_major": 2,
       "version_minor": 0
      },
      "text/plain": [
       "Generating Visualizations for batch-1/1:   0%|          | 0/20 [00:00<?, ?it/s]"
      ]
     },
     "metadata": {},
     "output_type": "display_data"
    },
    {
     "name": "stdout",
     "output_type": "stream",
     "text": [
      "\n",
      "      Epoch    GPU_mem   box_loss   cls_loss   dfl_loss  Instances       Size\n"
     ]
    },
    {
     "name": "stderr",
     "output_type": "stream",
     "text": [
      "      26/50      13.3G     0.7605     0.3967     0.9706        158        640: 100%|██████████| 32/32 [00:42<00:00,  1.32s/it]\n",
      "                 Class     Images  Instances      Box(P          R      mAP50  mAP50-95): 100%|██████████| 1/1 [00:00<00:00,  1.40it/s]"
     ]
    },
    {
     "name": "stdout",
     "output_type": "stream",
     "text": [
      "                   all         20        218      0.948      0.927      0.948      0.598\n"
     ]
    },
    {
     "name": "stderr",
     "output_type": "stream",
     "text": [
      "\n"
     ]
    },
    {
     "data": {
      "application/vnd.jupyter.widget-view+json": {
       "model_id": "7be5d83c932a4c458e18a1b71bb1a74a",
       "version_major": 2,
       "version_minor": 0
      },
      "text/plain": [
       "Generating Visualizations for batch-1/1:   0%|          | 0/20 [00:00<?, ?it/s]"
      ]
     },
     "metadata": {},
     "output_type": "display_data"
    },
    {
     "data": {
      "application/vnd.jupyter.widget-view+json": {
       "model_id": "28a9b8ed234a4dc780c6d847785d5ff4",
       "version_major": 2,
       "version_minor": 0
      },
      "text/plain": [
       "Generating Visualizations for batch-1/1:   0%|          | 0/20 [00:00<?, ?it/s]"
      ]
     },
     "metadata": {},
     "output_type": "display_data"
    },
    {
     "name": "stdout",
     "output_type": "stream",
     "text": [
      "\n",
      "      Epoch    GPU_mem   box_loss   cls_loss   dfl_loss  Instances       Size\n"
     ]
    },
    {
     "name": "stderr",
     "output_type": "stream",
     "text": [
      "      27/50      13.4G     0.7554     0.3833     0.9442        249        640: 100%|██████████| 32/32 [00:42<00:00,  1.32s/it]\n",
      "                 Class     Images  Instances      Box(P          R      mAP50  mAP50-95): 100%|██████████| 1/1 [00:00<00:00,  1.48it/s]"
     ]
    },
    {
     "name": "stdout",
     "output_type": "stream",
     "text": [
      "                   all         20        218      0.941       0.92       0.94       0.61\n"
     ]
    },
    {
     "name": "stderr",
     "output_type": "stream",
     "text": [
      "\n"
     ]
    },
    {
     "data": {
      "application/vnd.jupyter.widget-view+json": {
       "model_id": "5bed81e92ca94ffc94939775b951d672",
       "version_major": 2,
       "version_minor": 0
      },
      "text/plain": [
       "Generating Visualizations for batch-1/1:   0%|          | 0/20 [00:00<?, ?it/s]"
      ]
     },
     "metadata": {},
     "output_type": "display_data"
    },
    {
     "data": {
      "application/vnd.jupyter.widget-view+json": {
       "model_id": "da009223e06c48a798c50f0c90e89ae9",
       "version_major": 2,
       "version_minor": 0
      },
      "text/plain": [
       "Generating Visualizations for batch-1/1:   0%|          | 0/20 [00:00<?, ?it/s]"
      ]
     },
     "metadata": {},
     "output_type": "display_data"
    },
    {
     "name": "stdout",
     "output_type": "stream",
     "text": [
      "\n",
      "      Epoch    GPU_mem   box_loss   cls_loss   dfl_loss  Instances       Size\n"
     ]
    },
    {
     "name": "stderr",
     "output_type": "stream",
     "text": [
      "      28/50      13.4G     0.7314      0.378      0.947        197        640: 100%|██████████| 32/32 [00:42<00:00,  1.33s/it]\n",
      "                 Class     Images  Instances      Box(P          R      mAP50  mAP50-95): 100%|██████████| 1/1 [00:00<00:00,  1.41it/s]"
     ]
    },
    {
     "name": "stdout",
     "output_type": "stream",
     "text": [
      "                   all         20        218      0.965      0.923      0.954      0.604\n"
     ]
    },
    {
     "name": "stderr",
     "output_type": "stream",
     "text": [
      "\n"
     ]
    },
    {
     "data": {
      "application/vnd.jupyter.widget-view+json": {
       "model_id": "0f6d84c7aac740d6b7edd353244cddef",
       "version_major": 2,
       "version_minor": 0
      },
      "text/plain": [
       "Generating Visualizations for batch-1/1:   0%|          | 0/20 [00:00<?, ?it/s]"
      ]
     },
     "metadata": {},
     "output_type": "display_data"
    },
    {
     "data": {
      "application/vnd.jupyter.widget-view+json": {
       "model_id": "b5a039aae44c4a0a85a800432fccfc45",
       "version_major": 2,
       "version_minor": 0
      },
      "text/plain": [
       "Generating Visualizations for batch-1/1:   0%|          | 0/20 [00:00<?, ?it/s]"
      ]
     },
     "metadata": {},
     "output_type": "display_data"
    },
    {
     "name": "stdout",
     "output_type": "stream",
     "text": [
      "\n",
      "      Epoch    GPU_mem   box_loss   cls_loss   dfl_loss  Instances       Size\n"
     ]
    },
    {
     "name": "stderr",
     "output_type": "stream",
     "text": [
      "      29/50      13.4G      0.714      0.367     0.9371        205        640: 100%|██████████| 32/32 [00:41<00:00,  1.31s/it]\n",
      "                 Class     Images  Instances      Box(P          R      mAP50  mAP50-95): 100%|██████████| 1/1 [00:00<00:00,  1.54it/s]"
     ]
    },
    {
     "name": "stdout",
     "output_type": "stream",
     "text": [
      "                   all         20        218       0.96      0.915      0.938      0.593\n"
     ]
    },
    {
     "name": "stderr",
     "output_type": "stream",
     "text": [
      "\n"
     ]
    },
    {
     "data": {
      "application/vnd.jupyter.widget-view+json": {
       "model_id": "bb0a18fd647c4b7e90f749dac1a8bc97",
       "version_major": 2,
       "version_minor": 0
      },
      "text/plain": [
       "Generating Visualizations for batch-1/1:   0%|          | 0/20 [00:00<?, ?it/s]"
      ]
     },
     "metadata": {},
     "output_type": "display_data"
    },
    {
     "data": {
      "application/vnd.jupyter.widget-view+json": {
       "model_id": "d398e789723a4fed8bedd0885e3bba28",
       "version_major": 2,
       "version_minor": 0
      },
      "text/plain": [
       "Generating Visualizations for batch-1/1:   0%|          | 0/20 [00:00<?, ?it/s]"
      ]
     },
     "metadata": {},
     "output_type": "display_data"
    },
    {
     "name": "stdout",
     "output_type": "stream",
     "text": [
      "\n",
      "      Epoch    GPU_mem   box_loss   cls_loss   dfl_loss  Instances       Size\n"
     ]
    },
    {
     "name": "stderr",
     "output_type": "stream",
     "text": [
      "      30/50      13.4G     0.6975     0.3591     0.9326        217        640: 100%|██████████| 32/32 [00:41<00:00,  1.31s/it]\n",
      "                 Class     Images  Instances      Box(P          R      mAP50  mAP50-95): 100%|██████████| 1/1 [00:00<00:00,  1.53it/s]"
     ]
    },
    {
     "name": "stdout",
     "output_type": "stream",
     "text": [
      "                   all         20        218      0.962      0.942      0.955      0.603\n"
     ]
    },
    {
     "name": "stderr",
     "output_type": "stream",
     "text": [
      "\n"
     ]
    },
    {
     "data": {
      "application/vnd.jupyter.widget-view+json": {
       "model_id": "40c5e484e1f74480a7a3959416ff3309",
       "version_major": 2,
       "version_minor": 0
      },
      "text/plain": [
       "Generating Visualizations for batch-1/1:   0%|          | 0/20 [00:00<?, ?it/s]"
      ]
     },
     "metadata": {},
     "output_type": "display_data"
    },
    {
     "data": {
      "application/vnd.jupyter.widget-view+json": {
       "model_id": "9952506916564980b64bcdef7417dd84",
       "version_major": 2,
       "version_minor": 0
      },
      "text/plain": [
       "Generating Visualizations for batch-1/1:   0%|          | 0/20 [00:00<?, ?it/s]"
      ]
     },
     "metadata": {},
     "output_type": "display_data"
    },
    {
     "name": "stdout",
     "output_type": "stream",
     "text": [
      "\n",
      "      Epoch    GPU_mem   box_loss   cls_loss   dfl_loss  Instances       Size\n"
     ]
    },
    {
     "name": "stderr",
     "output_type": "stream",
     "text": [
      "      31/50      13.4G     0.7259     0.3682     0.9364        209        640: 100%|██████████| 32/32 [00:42<00:00,  1.32s/it]\n",
      "                 Class     Images  Instances      Box(P          R      mAP50  mAP50-95): 100%|██████████| 1/1 [00:00<00:00,  1.42it/s]"
     ]
    },
    {
     "name": "stdout",
     "output_type": "stream",
     "text": [
      "                   all         20        218      0.974      0.911       0.95      0.613\n"
     ]
    },
    {
     "name": "stderr",
     "output_type": "stream",
     "text": [
      "\n"
     ]
    },
    {
     "data": {
      "application/vnd.jupyter.widget-view+json": {
       "model_id": "21c7d4ea33d84740907c2152b1c91365",
       "version_major": 2,
       "version_minor": 0
      },
      "text/plain": [
       "Generating Visualizations for batch-1/1:   0%|          | 0/20 [00:00<?, ?it/s]"
      ]
     },
     "metadata": {},
     "output_type": "display_data"
    },
    {
     "data": {
      "application/vnd.jupyter.widget-view+json": {
       "model_id": "fd6841252c524448a83b16a3ff13ccb0",
       "version_major": 2,
       "version_minor": 0
      },
      "text/plain": [
       "Generating Visualizations for batch-1/1:   0%|          | 0/20 [00:00<?, ?it/s]"
      ]
     },
     "metadata": {},
     "output_type": "display_data"
    },
    {
     "name": "stdout",
     "output_type": "stream",
     "text": [
      "\n",
      "      Epoch    GPU_mem   box_loss   cls_loss   dfl_loss  Instances       Size\n"
     ]
    },
    {
     "name": "stderr",
     "output_type": "stream",
     "text": [
      "      32/50      13.4G     0.7029     0.3614     0.9361        223        640: 100%|██████████| 32/32 [00:41<00:00,  1.31s/it]\n",
      "                 Class     Images  Instances      Box(P          R      mAP50  mAP50-95): 100%|██████████| 1/1 [00:00<00:00,  1.46it/s]"
     ]
    },
    {
     "name": "stdout",
     "output_type": "stream",
     "text": [
      "                   all         20        218      0.971      0.901      0.954       0.62\n"
     ]
    },
    {
     "name": "stderr",
     "output_type": "stream",
     "text": [
      "\n"
     ]
    },
    {
     "data": {
      "application/vnd.jupyter.widget-view+json": {
       "model_id": "feb0ec79ac4242a69232b77d93ae22b5",
       "version_major": 2,
       "version_minor": 0
      },
      "text/plain": [
       "Generating Visualizations for batch-1/1:   0%|          | 0/20 [00:00<?, ?it/s]"
      ]
     },
     "metadata": {},
     "output_type": "display_data"
    },
    {
     "data": {
      "application/vnd.jupyter.widget-view+json": {
       "model_id": "65101bded1df4cc28f3298a692f3349c",
       "version_major": 2,
       "version_minor": 0
      },
      "text/plain": [
       "Generating Visualizations for batch-1/1:   0%|          | 0/20 [00:00<?, ?it/s]"
      ]
     },
     "metadata": {},
     "output_type": "display_data"
    },
    {
     "name": "stdout",
     "output_type": "stream",
     "text": [
      "\n",
      "      Epoch    GPU_mem   box_loss   cls_loss   dfl_loss  Instances       Size\n"
     ]
    },
    {
     "name": "stderr",
     "output_type": "stream",
     "text": [
      "      33/50      13.2G     0.6836     0.3519     0.9243        227        640: 100%|██████████| 32/32 [00:42<00:00,  1.32s/it]\n",
      "                 Class     Images  Instances      Box(P          R      mAP50  mAP50-95): 100%|██████████| 1/1 [00:00<00:00,  1.42it/s]"
     ]
    },
    {
     "name": "stdout",
     "output_type": "stream",
     "text": [
      "                   all         20        218      0.965      0.921      0.953      0.614\n"
     ]
    },
    {
     "name": "stderr",
     "output_type": "stream",
     "text": [
      "\n"
     ]
    },
    {
     "data": {
      "application/vnd.jupyter.widget-view+json": {
       "model_id": "89a6ea041fb5497a8d4b53592bc1d317",
       "version_major": 2,
       "version_minor": 0
      },
      "text/plain": [
       "Generating Visualizations for batch-1/1:   0%|          | 0/20 [00:00<?, ?it/s]"
      ]
     },
     "metadata": {},
     "output_type": "display_data"
    },
    {
     "data": {
      "application/vnd.jupyter.widget-view+json": {
       "model_id": "dadd1ad25f9b43db82f687c2df5b2532",
       "version_major": 2,
       "version_minor": 0
      },
      "text/plain": [
       "Generating Visualizations for batch-1/1:   0%|          | 0/20 [00:00<?, ?it/s]"
      ]
     },
     "metadata": {},
     "output_type": "display_data"
    },
    {
     "name": "stdout",
     "output_type": "stream",
     "text": [
      "\n",
      "      Epoch    GPU_mem   box_loss   cls_loss   dfl_loss  Instances       Size\n"
     ]
    },
    {
     "name": "stderr",
     "output_type": "stream",
     "text": [
      "      34/50      13.3G      0.657      0.342     0.9154        232        640: 100%|██████████| 32/32 [00:41<00:00,  1.29s/it]\n",
      "                 Class     Images  Instances      Box(P          R      mAP50  mAP50-95): 100%|██████████| 1/1 [00:00<00:00,  1.45it/s]"
     ]
    },
    {
     "name": "stdout",
     "output_type": "stream",
     "text": [
      "                   all         20        218      0.958      0.913      0.946       0.62\n"
     ]
    },
    {
     "name": "stderr",
     "output_type": "stream",
     "text": [
      "\n"
     ]
    },
    {
     "data": {
      "application/vnd.jupyter.widget-view+json": {
       "model_id": "b145af9e940341aab12bb5dbff0953f4",
       "version_major": 2,
       "version_minor": 0
      },
      "text/plain": [
       "Generating Visualizations for batch-1/1:   0%|          | 0/20 [00:00<?, ?it/s]"
      ]
     },
     "metadata": {},
     "output_type": "display_data"
    },
    {
     "data": {
      "application/vnd.jupyter.widget-view+json": {
       "model_id": "0be74bef74b7491db72d925c0d5d3a67",
       "version_major": 2,
       "version_minor": 0
      },
      "text/plain": [
       "Generating Visualizations for batch-1/1:   0%|          | 0/20 [00:00<?, ?it/s]"
      ]
     },
     "metadata": {},
     "output_type": "display_data"
    },
    {
     "name": "stdout",
     "output_type": "stream",
     "text": [
      "\n",
      "      Epoch    GPU_mem   box_loss   cls_loss   dfl_loss  Instances       Size\n"
     ]
    },
    {
     "name": "stderr",
     "output_type": "stream",
     "text": [
      "      35/50      13.4G     0.6554     0.3384      0.915        162        640: 100%|██████████| 32/32 [00:42<00:00,  1.32s/it]\n",
      "                 Class     Images  Instances      Box(P          R      mAP50  mAP50-95): 100%|██████████| 1/1 [00:00<00:00,  1.44it/s]"
     ]
    },
    {
     "name": "stdout",
     "output_type": "stream",
     "text": [
      "                   all         20        218      0.961      0.918       0.95      0.627\n"
     ]
    },
    {
     "name": "stderr",
     "output_type": "stream",
     "text": [
      "\n"
     ]
    },
    {
     "data": {
      "application/vnd.jupyter.widget-view+json": {
       "model_id": "d97905a227ef4e8c92bb0c337422e8a3",
       "version_major": 2,
       "version_minor": 0
      },
      "text/plain": [
       "Generating Visualizations for batch-1/1:   0%|          | 0/20 [00:00<?, ?it/s]"
      ]
     },
     "metadata": {},
     "output_type": "display_data"
    },
    {
     "data": {
      "application/vnd.jupyter.widget-view+json": {
       "model_id": "7c81bb7c014042e3941c5faf72e18e08",
       "version_major": 2,
       "version_minor": 0
      },
      "text/plain": [
       "Generating Visualizations for batch-1/1:   0%|          | 0/20 [00:00<?, ?it/s]"
      ]
     },
     "metadata": {},
     "output_type": "display_data"
    },
    {
     "name": "stdout",
     "output_type": "stream",
     "text": [
      "\n",
      "      Epoch    GPU_mem   box_loss   cls_loss   dfl_loss  Instances       Size\n"
     ]
    },
    {
     "name": "stderr",
     "output_type": "stream",
     "text": [
      "      36/50      13.4G     0.6373      0.327      0.903        226        640: 100%|██████████| 32/32 [00:41<00:00,  1.31s/it]\n",
      "                 Class     Images  Instances      Box(P          R      mAP50  mAP50-95): 100%|██████████| 1/1 [00:00<00:00,  1.55it/s]"
     ]
    },
    {
     "name": "stdout",
     "output_type": "stream",
     "text": [
      "                   all         20        218       0.97       0.92      0.959      0.627\n"
     ]
    },
    {
     "name": "stderr",
     "output_type": "stream",
     "text": [
      "\n"
     ]
    },
    {
     "data": {
      "application/vnd.jupyter.widget-view+json": {
       "model_id": "bff69c9f550549e3b7bf706d9b6a63d6",
       "version_major": 2,
       "version_minor": 0
      },
      "text/plain": [
       "Generating Visualizations for batch-1/1:   0%|          | 0/20 [00:00<?, ?it/s]"
      ]
     },
     "metadata": {},
     "output_type": "display_data"
    },
    {
     "data": {
      "application/vnd.jupyter.widget-view+json": {
       "model_id": "e54fcad7c12b4da2b23537785c76e44f",
       "version_major": 2,
       "version_minor": 0
      },
      "text/plain": [
       "Generating Visualizations for batch-1/1:   0%|          | 0/20 [00:00<?, ?it/s]"
      ]
     },
     "metadata": {},
     "output_type": "display_data"
    },
    {
     "name": "stdout",
     "output_type": "stream",
     "text": [
      "\n",
      "      Epoch    GPU_mem   box_loss   cls_loss   dfl_loss  Instances       Size\n"
     ]
    },
    {
     "name": "stderr",
     "output_type": "stream",
     "text": [
      "      37/50      13.4G     0.6286     0.3223     0.9008        221        640: 100%|██████████| 32/32 [00:41<00:00,  1.30s/it]\n",
      "                 Class     Images  Instances      Box(P          R      mAP50  mAP50-95): 100%|██████████| 1/1 [00:00<00:00,  1.45it/s]"
     ]
    },
    {
     "name": "stdout",
     "output_type": "stream",
     "text": [
      "                   all         20        218      0.977      0.921      0.956      0.627\n"
     ]
    },
    {
     "name": "stderr",
     "output_type": "stream",
     "text": [
      "\n"
     ]
    },
    {
     "data": {
      "application/vnd.jupyter.widget-view+json": {
       "model_id": "d2d9b239dd0b493e8acb2c5dced388a7",
       "version_major": 2,
       "version_minor": 0
      },
      "text/plain": [
       "Generating Visualizations for batch-1/1:   0%|          | 0/20 [00:00<?, ?it/s]"
      ]
     },
     "metadata": {},
     "output_type": "display_data"
    },
    {
     "data": {
      "application/vnd.jupyter.widget-view+json": {
       "model_id": "2e1634baf7254200b5349b26705d2646",
       "version_major": 2,
       "version_minor": 0
      },
      "text/plain": [
       "Generating Visualizations for batch-1/1:   0%|          | 0/20 [00:00<?, ?it/s]"
      ]
     },
     "metadata": {},
     "output_type": "display_data"
    },
    {
     "name": "stdout",
     "output_type": "stream",
     "text": [
      "\n",
      "      Epoch    GPU_mem   box_loss   cls_loss   dfl_loss  Instances       Size\n"
     ]
    },
    {
     "name": "stderr",
     "output_type": "stream",
     "text": [
      "      38/50      13.4G     0.6107     0.3175     0.8966        265        640: 100%|██████████| 32/32 [00:41<00:00,  1.31s/it]\n",
      "                 Class     Images  Instances      Box(P          R      mAP50  mAP50-95): 100%|██████████| 1/1 [00:00<00:00,  1.41it/s]"
     ]
    },
    {
     "name": "stdout",
     "output_type": "stream",
     "text": [
      "                   all         20        218      0.964      0.924      0.949       0.61\n"
     ]
    },
    {
     "name": "stderr",
     "output_type": "stream",
     "text": [
      "\n"
     ]
    },
    {
     "data": {
      "application/vnd.jupyter.widget-view+json": {
       "model_id": "fbfc406b3ce54d9db69f52c2668ba3e1",
       "version_major": 2,
       "version_minor": 0
      },
      "text/plain": [
       "Generating Visualizations for batch-1/1:   0%|          | 0/20 [00:00<?, ?it/s]"
      ]
     },
     "metadata": {},
     "output_type": "display_data"
    },
    {
     "data": {
      "application/vnd.jupyter.widget-view+json": {
       "model_id": "f21d0b96abe045f2aaca8cf35b83d95e",
       "version_major": 2,
       "version_minor": 0
      },
      "text/plain": [
       "Generating Visualizations for batch-1/1:   0%|          | 0/20 [00:00<?, ?it/s]"
      ]
     },
     "metadata": {},
     "output_type": "display_data"
    },
    {
     "name": "stdout",
     "output_type": "stream",
     "text": [
      "\n",
      "      Epoch    GPU_mem   box_loss   cls_loss   dfl_loss  Instances       Size\n"
     ]
    },
    {
     "name": "stderr",
     "output_type": "stream",
     "text": [
      "      39/50      13.4G     0.6047     0.3142     0.8905        196        640: 100%|██████████| 32/32 [00:42<00:00,  1.32s/it]\n",
      "                 Class     Images  Instances      Box(P          R      mAP50  mAP50-95): 100%|██████████| 1/1 [00:00<00:00,  1.45it/s]"
     ]
    },
    {
     "name": "stdout",
     "output_type": "stream",
     "text": [
      "                   all         20        218      0.964      0.925      0.952      0.625\n"
     ]
    },
    {
     "name": "stderr",
     "output_type": "stream",
     "text": [
      "\n"
     ]
    },
    {
     "data": {
      "application/vnd.jupyter.widget-view+json": {
       "model_id": "5f32526f5e914e2784f5907ac3b72daf",
       "version_major": 2,
       "version_minor": 0
      },
      "text/plain": [
       "Generating Visualizations for batch-1/1:   0%|          | 0/20 [00:00<?, ?it/s]"
      ]
     },
     "metadata": {},
     "output_type": "display_data"
    },
    {
     "data": {
      "application/vnd.jupyter.widget-view+json": {
       "model_id": "5ff12f533b244b0d83cb9d182f29f7f6",
       "version_major": 2,
       "version_minor": 0
      },
      "text/plain": [
       "Generating Visualizations for batch-1/1:   0%|          | 0/20 [00:00<?, ?it/s]"
      ]
     },
     "metadata": {},
     "output_type": "display_data"
    },
    {
     "name": "stdout",
     "output_type": "stream",
     "text": [
      "\n",
      "      Epoch    GPU_mem   box_loss   cls_loss   dfl_loss  Instances       Size\n"
     ]
    },
    {
     "name": "stderr",
     "output_type": "stream",
     "text": [
      "      40/50      13.4G     0.6053      0.313     0.8918        275        640: 100%|██████████| 32/32 [00:42<00:00,  1.33s/it]\n",
      "                 Class     Images  Instances      Box(P          R      mAP50  mAP50-95): 100%|██████████| 1/1 [00:00<00:00,  1.49it/s]"
     ]
    },
    {
     "name": "stdout",
     "output_type": "stream",
     "text": [
      "                   all         20        218       0.96      0.927      0.956       0.63\n"
     ]
    },
    {
     "name": "stderr",
     "output_type": "stream",
     "text": [
      "\n"
     ]
    },
    {
     "data": {
      "application/vnd.jupyter.widget-view+json": {
       "model_id": "637fb0ff4bc64c15bc27878d2e5b0362",
       "version_major": 2,
       "version_minor": 0
      },
      "text/plain": [
       "Generating Visualizations for batch-1/1:   0%|          | 0/20 [00:00<?, ?it/s]"
      ]
     },
     "metadata": {},
     "output_type": "display_data"
    },
    {
     "data": {
      "application/vnd.jupyter.widget-view+json": {
       "model_id": "a584926611c9474f8ffc651fd7b7f498",
       "version_major": 2,
       "version_minor": 0
      },
      "text/plain": [
       "Generating Visualizations for batch-1/1:   0%|          | 0/20 [00:00<?, ?it/s]"
      ]
     },
     "metadata": {},
     "output_type": "display_data"
    },
    {
     "name": "stdout",
     "output_type": "stream",
     "text": [
      "Closing dataloader mosaic\n",
      "\u001b[34m\u001b[1malbumentations: \u001b[0mBlur(p=0.01, blur_limit=(3, 7)), MedianBlur(p=0.01, blur_limit=(3, 7)), ToGray(p=0.01, num_output_channels=3, method='weighted_average'), CLAHE(p=0.01, clip_limit=(1.0, 4.0), tile_grid_size=(8, 8))\n",
      "\n",
      "      Epoch    GPU_mem   box_loss   cls_loss   dfl_loss  Instances       Size\n"
     ]
    },
    {
     "name": "stderr",
     "output_type": "stream",
     "text": [
      "      41/50      13.5G      0.553     0.2702     0.8761        144        640: 100%|██████████| 32/32 [00:46<00:00,  1.44s/it]\n",
      "                 Class     Images  Instances      Box(P          R      mAP50  mAP50-95): 100%|██████████| 1/1 [00:00<00:00,  1.47it/s]"
     ]
    },
    {
     "name": "stdout",
     "output_type": "stream",
     "text": [
      "                   all         20        218      0.959       0.93      0.953       0.61\n"
     ]
    },
    {
     "name": "stderr",
     "output_type": "stream",
     "text": [
      "\n"
     ]
    },
    {
     "data": {
      "application/vnd.jupyter.widget-view+json": {
       "model_id": "322b568e3459458bbef1da4c4c6ac301",
       "version_major": 2,
       "version_minor": 0
      },
      "text/plain": [
       "Generating Visualizations for batch-1/1:   0%|          | 0/20 [00:00<?, ?it/s]"
      ]
     },
     "metadata": {},
     "output_type": "display_data"
    },
    {
     "data": {
      "application/vnd.jupyter.widget-view+json": {
       "model_id": "6a05eb4d5bf648cca1724ab19f236ee1",
       "version_major": 2,
       "version_minor": 0
      },
      "text/plain": [
       "Generating Visualizations for batch-1/1:   0%|          | 0/20 [00:00<?, ?it/s]"
      ]
     },
     "metadata": {},
     "output_type": "display_data"
    },
    {
     "name": "stdout",
     "output_type": "stream",
     "text": [
      "\n",
      "      Epoch    GPU_mem   box_loss   cls_loss   dfl_loss  Instances       Size\n"
     ]
    },
    {
     "name": "stderr",
     "output_type": "stream",
     "text": [
      "      42/50      13.5G     0.5314     0.2623     0.8703        148        640: 100%|██████████| 32/32 [00:42<00:00,  1.31s/it]\n",
      "                 Class     Images  Instances      Box(P          R      mAP50  mAP50-95): 100%|██████████| 1/1 [00:00<00:00,  1.56it/s]"
     ]
    },
    {
     "name": "stdout",
     "output_type": "stream",
     "text": [
      "                   all         20        218      0.963      0.923       0.95       0.61\n"
     ]
    },
    {
     "name": "stderr",
     "output_type": "stream",
     "text": [
      "\n"
     ]
    },
    {
     "data": {
      "application/vnd.jupyter.widget-view+json": {
       "model_id": "658c2d15df6340d8adad8ec0ab9d65f5",
       "version_major": 2,
       "version_minor": 0
      },
      "text/plain": [
       "Generating Visualizations for batch-1/1:   0%|          | 0/20 [00:00<?, ?it/s]"
      ]
     },
     "metadata": {},
     "output_type": "display_data"
    },
    {
     "data": {
      "application/vnd.jupyter.widget-view+json": {
       "model_id": "e9b4101f2b2043598545615499ef79f8",
       "version_major": 2,
       "version_minor": 0
      },
      "text/plain": [
       "Generating Visualizations for batch-1/1:   0%|          | 0/20 [00:00<?, ?it/s]"
      ]
     },
     "metadata": {},
     "output_type": "display_data"
    },
    {
     "name": "stdout",
     "output_type": "stream",
     "text": [
      "\n",
      "      Epoch    GPU_mem   box_loss   cls_loss   dfl_loss  Instances       Size\n"
     ]
    },
    {
     "name": "stderr",
     "output_type": "stream",
     "text": [
      "      43/50      13.5G     0.5241       0.26     0.8734        150        640: 100%|██████████| 32/32 [00:43<00:00,  1.37s/it]\n",
      "                 Class     Images  Instances      Box(P          R      mAP50  mAP50-95): 100%|██████████| 1/1 [00:00<00:00,  1.42it/s]"
     ]
    },
    {
     "name": "stdout",
     "output_type": "stream",
     "text": [
      "                   all         20        218      0.959      0.927      0.948      0.617\n"
     ]
    },
    {
     "name": "stderr",
     "output_type": "stream",
     "text": [
      "\n"
     ]
    },
    {
     "data": {
      "application/vnd.jupyter.widget-view+json": {
       "model_id": "c29edf588d3043ab801adc6fa1d0abe6",
       "version_major": 2,
       "version_minor": 0
      },
      "text/plain": [
       "Generating Visualizations for batch-1/1:   0%|          | 0/20 [00:00<?, ?it/s]"
      ]
     },
     "metadata": {},
     "output_type": "display_data"
    },
    {
     "data": {
      "application/vnd.jupyter.widget-view+json": {
       "model_id": "19a280904bb7413dac46d54d317c7ace",
       "version_major": 2,
       "version_minor": 0
      },
      "text/plain": [
       "Generating Visualizations for batch-1/1:   0%|          | 0/20 [00:00<?, ?it/s]"
      ]
     },
     "metadata": {},
     "output_type": "display_data"
    },
    {
     "name": "stdout",
     "output_type": "stream",
     "text": [
      "\n",
      "      Epoch    GPU_mem   box_loss   cls_loss   dfl_loss  Instances       Size\n"
     ]
    },
    {
     "name": "stderr",
     "output_type": "stream",
     "text": [
      "      44/50      13.5G     0.5185     0.2571     0.8666        150        640: 100%|██████████| 32/32 [00:41<00:00,  1.31s/it]\n",
      "                 Class     Images  Instances      Box(P          R      mAP50  mAP50-95): 100%|██████████| 1/1 [00:00<00:00,  1.47it/s]"
     ]
    },
    {
     "name": "stdout",
     "output_type": "stream",
     "text": [
      "                   all         20        218      0.961      0.923      0.951      0.617\n"
     ]
    },
    {
     "name": "stderr",
     "output_type": "stream",
     "text": [
      "\n"
     ]
    },
    {
     "data": {
      "application/vnd.jupyter.widget-view+json": {
       "model_id": "e58fe1a840c8444486a2278657b588f8",
       "version_major": 2,
       "version_minor": 0
      },
      "text/plain": [
       "Generating Visualizations for batch-1/1:   0%|          | 0/20 [00:00<?, ?it/s]"
      ]
     },
     "metadata": {},
     "output_type": "display_data"
    },
    {
     "data": {
      "application/vnd.jupyter.widget-view+json": {
       "model_id": "994309ee0b5d473199edc04cdb332f2e",
       "version_major": 2,
       "version_minor": 0
      },
      "text/plain": [
       "Generating Visualizations for batch-1/1:   0%|          | 0/20 [00:00<?, ?it/s]"
      ]
     },
     "metadata": {},
     "output_type": "display_data"
    },
    {
     "name": "stdout",
     "output_type": "stream",
     "text": [
      "\n",
      "      Epoch    GPU_mem   box_loss   cls_loss   dfl_loss  Instances       Size\n"
     ]
    },
    {
     "name": "stderr",
     "output_type": "stream",
     "text": [
      "      45/50      13.5G     0.5054     0.2507     0.8613        136        640: 100%|██████████| 32/32 [00:42<00:00,  1.33s/it]\n",
      "                 Class     Images  Instances      Box(P          R      mAP50  mAP50-95): 100%|██████████| 1/1 [00:00<00:00,  1.55it/s]"
     ]
    },
    {
     "name": "stdout",
     "output_type": "stream",
     "text": [
      "                   all         20        218      0.963      0.923      0.951      0.625\n"
     ]
    },
    {
     "name": "stderr",
     "output_type": "stream",
     "text": [
      "\n"
     ]
    },
    {
     "data": {
      "application/vnd.jupyter.widget-view+json": {
       "model_id": "6f4c63e5415741e0a7b952cefed59179",
       "version_major": 2,
       "version_minor": 0
      },
      "text/plain": [
       "Generating Visualizations for batch-1/1:   0%|          | 0/20 [00:00<?, ?it/s]"
      ]
     },
     "metadata": {},
     "output_type": "display_data"
    },
    {
     "data": {
      "application/vnd.jupyter.widget-view+json": {
       "model_id": "d0bc655fc43946549d69f8fe0d008fbb",
       "version_major": 2,
       "version_minor": 0
      },
      "text/plain": [
       "Generating Visualizations for batch-1/1:   0%|          | 0/20 [00:00<?, ?it/s]"
      ]
     },
     "metadata": {},
     "output_type": "display_data"
    },
    {
     "name": "stdout",
     "output_type": "stream",
     "text": [
      "\n",
      "      Epoch    GPU_mem   box_loss   cls_loss   dfl_loss  Instances       Size\n"
     ]
    },
    {
     "name": "stderr",
     "output_type": "stream",
     "text": [
      "      46/50      13.5G     0.4811     0.2411     0.8535        161        640: 100%|██████████| 32/32 [00:41<00:00,  1.31s/it]\n",
      "                 Class     Images  Instances      Box(P          R      mAP50  mAP50-95): 100%|██████████| 1/1 [00:00<00:00,  1.41it/s]"
     ]
    },
    {
     "name": "stdout",
     "output_type": "stream",
     "text": [
      "                   all         20        218      0.963      0.925      0.953      0.617\n"
     ]
    },
    {
     "name": "stderr",
     "output_type": "stream",
     "text": [
      "\n"
     ]
    },
    {
     "data": {
      "application/vnd.jupyter.widget-view+json": {
       "model_id": "761c58e33d9f438595b713c7876cd595",
       "version_major": 2,
       "version_minor": 0
      },
      "text/plain": [
       "Generating Visualizations for batch-1/1:   0%|          | 0/20 [00:00<?, ?it/s]"
      ]
     },
     "metadata": {},
     "output_type": "display_data"
    },
    {
     "data": {
      "application/vnd.jupyter.widget-view+json": {
       "model_id": "a20277bd40b94497adaec5044e81d757",
       "version_major": 2,
       "version_minor": 0
      },
      "text/plain": [
       "Generating Visualizations for batch-1/1:   0%|          | 0/20 [00:00<?, ?it/s]"
      ]
     },
     "metadata": {},
     "output_type": "display_data"
    },
    {
     "name": "stdout",
     "output_type": "stream",
     "text": [
      "\n",
      "      Epoch    GPU_mem   box_loss   cls_loss   dfl_loss  Instances       Size\n"
     ]
    },
    {
     "name": "stderr",
     "output_type": "stream",
     "text": [
      "      47/50      13.5G     0.4716     0.2367     0.8534        142        640: 100%|██████████| 32/32 [00:42<00:00,  1.31s/it]\n",
      "                 Class     Images  Instances      Box(P          R      mAP50  mAP50-95): 100%|██████████| 1/1 [00:00<00:00,  1.50it/s]"
     ]
    },
    {
     "name": "stdout",
     "output_type": "stream",
     "text": [
      "                   all         20        218      0.962      0.923      0.953      0.622\n"
     ]
    },
    {
     "name": "stderr",
     "output_type": "stream",
     "text": [
      "\n"
     ]
    },
    {
     "data": {
      "application/vnd.jupyter.widget-view+json": {
       "model_id": "ad1fc4d20391451c9090964c81eeacb6",
       "version_major": 2,
       "version_minor": 0
      },
      "text/plain": [
       "Generating Visualizations for batch-1/1:   0%|          | 0/20 [00:00<?, ?it/s]"
      ]
     },
     "metadata": {},
     "output_type": "display_data"
    },
    {
     "data": {
      "application/vnd.jupyter.widget-view+json": {
       "model_id": "0f18b78e1b6644dca49340c28f95a443",
       "version_major": 2,
       "version_minor": 0
      },
      "text/plain": [
       "Generating Visualizations for batch-1/1:   0%|          | 0/20 [00:00<?, ?it/s]"
      ]
     },
     "metadata": {},
     "output_type": "display_data"
    },
    {
     "name": "stdout",
     "output_type": "stream",
     "text": [
      "\n",
      "      Epoch    GPU_mem   box_loss   cls_loss   dfl_loss  Instances       Size\n"
     ]
    },
    {
     "name": "stderr",
     "output_type": "stream",
     "text": [
      "      48/50      13.5G     0.4718     0.2378     0.8502        149        640: 100%|██████████| 32/32 [00:42<00:00,  1.31s/it]\n",
      "                 Class     Images  Instances      Box(P          R      mAP50  mAP50-95): 100%|██████████| 1/1 [00:00<00:00,  1.51it/s]"
     ]
    },
    {
     "name": "stdout",
     "output_type": "stream",
     "text": [
      "                   all         20        218      0.962      0.925      0.953      0.625\n"
     ]
    },
    {
     "name": "stderr",
     "output_type": "stream",
     "text": [
      "\n"
     ]
    },
    {
     "data": {
      "application/vnd.jupyter.widget-view+json": {
       "model_id": "4b79f816ba994ca687d69123f0452a8e",
       "version_major": 2,
       "version_minor": 0
      },
      "text/plain": [
       "Generating Visualizations for batch-1/1:   0%|          | 0/20 [00:00<?, ?it/s]"
      ]
     },
     "metadata": {},
     "output_type": "display_data"
    },
    {
     "data": {
      "application/vnd.jupyter.widget-view+json": {
       "model_id": "3456094926c74f61baa6cc8298bce0ea",
       "version_major": 2,
       "version_minor": 0
      },
      "text/plain": [
       "Generating Visualizations for batch-1/1:   0%|          | 0/20 [00:00<?, ?it/s]"
      ]
     },
     "metadata": {},
     "output_type": "display_data"
    },
    {
     "name": "stdout",
     "output_type": "stream",
     "text": [
      "\n",
      "      Epoch    GPU_mem   box_loss   cls_loss   dfl_loss  Instances       Size\n"
     ]
    },
    {
     "name": "stderr",
     "output_type": "stream",
     "text": [
      "      49/50      13.5G     0.4574     0.2337     0.8464        154        640: 100%|██████████| 32/32 [00:41<00:00,  1.30s/it]\n",
      "                 Class     Images  Instances      Box(P          R      mAP50  mAP50-95): 100%|██████████| 1/1 [00:00<00:00,  1.46it/s]"
     ]
    },
    {
     "name": "stdout",
     "output_type": "stream",
     "text": [
      "                   all         20        218       0.96      0.931      0.952       0.62\n"
     ]
    },
    {
     "name": "stderr",
     "output_type": "stream",
     "text": [
      "\n"
     ]
    },
    {
     "data": {
      "application/vnd.jupyter.widget-view+json": {
       "model_id": "fbe2775f44064c958009c7842b647322",
       "version_major": 2,
       "version_minor": 0
      },
      "text/plain": [
       "Generating Visualizations for batch-1/1:   0%|          | 0/20 [00:00<?, ?it/s]"
      ]
     },
     "metadata": {},
     "output_type": "display_data"
    },
    {
     "data": {
      "application/vnd.jupyter.widget-view+json": {
       "model_id": "9e75883c35294697905c49f6cb37a4eb",
       "version_major": 2,
       "version_minor": 0
      },
      "text/plain": [
       "Generating Visualizations for batch-1/1:   0%|          | 0/20 [00:00<?, ?it/s]"
      ]
     },
     "metadata": {},
     "output_type": "display_data"
    },
    {
     "name": "stdout",
     "output_type": "stream",
     "text": [
      "\n",
      "      Epoch    GPU_mem   box_loss   cls_loss   dfl_loss  Instances       Size\n"
     ]
    },
    {
     "name": "stderr",
     "output_type": "stream",
     "text": [
      "      50/50      13.5G     0.4449     0.2298      0.836        141        640: 100%|██████████| 32/32 [00:41<00:00,  1.30s/it]\n",
      "                 Class     Images  Instances      Box(P          R      mAP50  mAP50-95): 100%|██████████| 1/1 [00:00<00:00,  1.55it/s]"
     ]
    },
    {
     "name": "stdout",
     "output_type": "stream",
     "text": [
      "                   all         20        218      0.962       0.93       0.95      0.626\n"
     ]
    },
    {
     "name": "stderr",
     "output_type": "stream",
     "text": [
      "\n"
     ]
    },
    {
     "data": {
      "application/vnd.jupyter.widget-view+json": {
       "model_id": "9805c978335f45f9b1c323b98517eb37",
       "version_major": 2,
       "version_minor": 0
      },
      "text/plain": [
       "Generating Visualizations for batch-1/1:   0%|          | 0/20 [00:00<?, ?it/s]"
      ]
     },
     "metadata": {},
     "output_type": "display_data"
    },
    {
     "data": {
      "application/vnd.jupyter.widget-view+json": {
       "model_id": "34bbd8500ba249bc845523aad3a57209",
       "version_major": 2,
       "version_minor": 0
      },
      "text/plain": [
       "Generating Visualizations for batch-1/1:   0%|          | 0/20 [00:00<?, ?it/s]"
      ]
     },
     "metadata": {},
     "output_type": "display_data"
    },
    {
     "name": "stdout",
     "output_type": "stream",
     "text": [
      "\n",
      "50 epochs completed in 1.112 hours.\n",
      "Optimizer stripped from Prototype 1/p1_v1/weights/last.pt, 136.8MB\n",
      "Optimizer stripped from Prototype 1/p1_v1/weights/best.pt, 136.8MB\n",
      "\n",
      "Validating Prototype 1/p1_v1/weights/best.pt...\n",
      "Ultralytics 8.3.71 🚀 Python-3.11.11 torch-2.5.1+cu124 CUDA:0 (Tesla T4, 15095MiB)\n",
      "Model summary (fused): 268 layers, 68,143,791 parameters, 0 gradients, 257.5 GFLOPs\n"
     ]
    },
    {
     "name": "stderr",
     "output_type": "stream",
     "text": [
      "                 Class     Images  Instances      Box(P          R      mAP50  mAP50-95): 100%|██████████| 1/1 [00:01<00:00,  1.33s/it]\n"
     ]
    },
    {
     "name": "stdout",
     "output_type": "stream",
     "text": [
      "                   all         20        218      0.961      0.927      0.956      0.631\n",
      "                    07         11         11      0.843          1      0.965      0.738\n",
      "                    08         13         13       0.99          1      0.995      0.559\n",
      "                    09          6          6       0.97      0.833      0.893      0.755\n",
      "                   102          7          7      0.845      0.857      0.791      0.288\n",
      "                   108          6          6      0.965      0.833      0.866      0.518\n",
      "                   117          6          6          1       0.92      0.995      0.715\n",
      "                   118         13         13          1       0.86      0.995      0.689\n",
      "                   120         12         12          1      0.764      0.977      0.516\n",
      "                   121         13         13      0.994          1      0.995      0.634\n",
      "                   122         13         13      0.991          1      0.995      0.577\n",
      "                   123          6          6      0.973      0.667      0.802      0.558\n",
      "                   130         16         16      0.935      0.938      0.954      0.752\n",
      "                    25          5          5      0.996          1      0.995      0.464\n",
      "                    34         12         12      0.986          1      0.995      0.778\n",
      "                    35         20         20          1      0.958      0.995      0.629\n",
      "                    40         11         11      0.903          1      0.995      0.764\n",
      "                    41          6          6      0.971      0.833      0.909       0.58\n",
      "                    43          3          3      0.936          1      0.995      0.548\n",
      "                    47         13         13       0.99          1      0.995      0.679\n",
      "                    64         15         15      0.984          1      0.995      0.767\n",
      "                    74         11         11      0.905          1      0.988      0.746\n"
     ]
    },
    {
     "data": {
      "application/vnd.jupyter.widget-view+json": {
       "model_id": "a257edb58cd54d3d83e3c04b1f0d17d9",
       "version_major": 2,
       "version_minor": 0
      },
      "text/plain": [
       "Generating Visualizations for batch-1/1:   0%|          | 0/20 [00:00<?, ?it/s]"
      ]
     },
     "metadata": {},
     "output_type": "display_data"
    },
    {
     "name": "stdout",
     "output_type": "stream",
     "text": [
      "Speed: 0.3ms preprocess, 28.6ms inference, 0.0ms loss, 1.8ms postprocess per image\n",
      "Results saved to \u001b[1mPrototype 1/p1_v1\u001b[0m\n"
     ]
    },
    {
     "data": {
      "text/html": [],
      "text/plain": [
       "<IPython.core.display.HTML object>"
      ]
     },
     "metadata": {},
     "output_type": "display_data"
    },
    {
     "data": {
      "text/html": [
       " View run <strong style=\"color:#cdcd00\">p1_v1</strong> at: <a href='https://wandb.ai/tsp1718-medi-caps-university/Prototype%201/runs/64oszwpp' target=\"_blank\">https://wandb.ai/tsp1718-medi-caps-university/Prototype%201/runs/64oszwpp</a><br> View project at: <a href='https://wandb.ai/tsp1718-medi-caps-university/Prototype%201' target=\"_blank\">https://wandb.ai/tsp1718-medi-caps-university/Prototype%201</a><br>Synced 5 W&B file(s), 2 media file(s), 146 artifact file(s) and 0 other file(s)"
      ],
      "text/plain": [
       "<IPython.core.display.HTML object>"
      ]
     },
     "metadata": {},
     "output_type": "display_data"
    },
    {
     "data": {
      "text/html": [
       "Find logs at: <code>./wandb/run-20250205_080046-64oszwpp/logs</code>"
      ],
      "text/plain": [
       "<IPython.core.display.HTML object>"
      ]
     },
     "metadata": {},
     "output_type": "display_data"
    }
   ],
   "source": [
    "\n",
    "from wandb.integration.ultralytics import add_wandb_callback\n",
    "# Step 3: Initialize YOLOv8-OBB model\n",
    "model = YOLO('yolov8x.pt')\n",
    "# Change to yolov8n.yaml, yolov8s.yaml, etc. for different model sizes\n",
    "\n",
    "wandb.init(\n",
    "    # set the wandb project where this run will be logged\n",
    "    project=\"Prototype 1\", name='p1_v1'\n",
    ")\n",
    "add_wandb_callback(model, enable_model_checkpointing=True)\n",
    "# Step 4: Train the model\n",
    "model.train(data=\"/content/Prototype-1.01-1/data.yaml\", imgsz=640, epochs=50, batch=16, seed=42,project='Prototype 1', device='0', name=\"p1_v1\")# Adjust epochs, image size, batch size as needed\n",
    "\n",
    "# Step 6: Save the trained model\n",
    "model.save('yolo_best.pt')\n",
    "wandb.finish()"
   ]
  },
  {
   "cell_type": "code",
   "execution_count": null,
   "metadata": {
    "id": "Osrcw3FGE2oY"
   },
   "outputs": [],
   "source": []
  }
 ],
 "metadata": {
  "accelerator": "GPU",
  "colab": {
   "gpuType": "T4",
   "provenance": []
  },
  "kaggle": {
   "accelerator": "nvidiaTeslaT4",
   "dataSources": [
    {
     "datasetId": 6589731,
     "sourceId": 10642791,
     "sourceType": "datasetVersion"
    },
    {
     "datasetId": 6596714,
     "sourceId": 10652993,
     "sourceType": "datasetVersion"
    }
   ],
   "isGpuEnabled": true,
   "isInternetEnabled": true,
   "language": "python",
   "sourceType": "notebook"
  },
  "kernelspec": {
   "display_name": "Python 3",
   "name": "python3"
  },
  "language_info": {
   "codemirror_mode": {
    "name": "ipython",
    "version": 3
   },
   "file_extension": ".py",
   "mimetype": "text/x-python",
   "name": "python",
   "nbconvert_exporter": "python",
   "pygments_lexer": "ipython3",
   "version": "3.10.12"
  }
 },
 "nbformat": 4,
 "nbformat_minor": 0
}
